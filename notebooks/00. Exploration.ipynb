{
 "cells": [
  {
   "cell_type": "code",
   "execution_count": 118,
   "id": "e172e4c7",
   "metadata": {},
   "outputs": [],
   "source": [
    "DATA_PATH='..data/Raw/survey_results_public.csv'"
   ]
  },
  {
   "cell_type": "code",
   "execution_count": 116,
   "id": "0caff175",
   "metadata": {},
   "outputs": [],
   "source": [
    "import pandas as pd\n",
    "import numpy as np\n",
    "\n",
    "import seaborn as sns\n",
    "import matplotlib.pyplot as plt\n",
    "import plotly.express as px\n",
    "\n",
    "import pickle\n",
    "\n",
    "%matplotlib inline"
   ]
  },
  {
   "cell_type": "code",
   "execution_count": 93,
   "id": "2a037d20",
   "metadata": {},
   "outputs": [],
   "source": [
    "#reaad data\n",
    "df= pd.read_csv(DATA_PATH)"
   ]
  },
  {
   "cell_type": "code",
   "execution_count": 94,
   "id": "1c274b24",
   "metadata": {},
   "outputs": [
    {
     "data": {
      "text/plain": [
       "(83439, 48)"
      ]
     },
     "execution_count": 94,
     "metadata": {},
     "output_type": "execute_result"
    }
   ],
   "source": [
    "#print shape of the data\n",
    "df.shape"
   ]
  },
  {
   "cell_type": "code",
   "execution_count": 20,
   "id": "68a019e0",
   "metadata": {},
   "outputs": [
    {
     "data": {
      "text/html": [
       "<div>\n",
       "<style scoped>\n",
       "    .dataframe tbody tr th:only-of-type {\n",
       "        vertical-align: middle;\n",
       "    }\n",
       "\n",
       "    .dataframe tbody tr th {\n",
       "        vertical-align: top;\n",
       "    }\n",
       "\n",
       "    .dataframe thead th {\n",
       "        text-align: right;\n",
       "    }\n",
       "</style>\n",
       "<table border=\"1\" class=\"dataframe\">\n",
       "  <thead>\n",
       "    <tr style=\"text-align: right;\">\n",
       "      <th></th>\n",
       "      <th>CompFreq</th>\n",
       "      <th>LanguageHaveWorkedWith</th>\n",
       "      <th>LanguageWantToWorkWith</th>\n",
       "      <th>DatabaseHaveWorkedWith</th>\n",
       "      <th>DatabaseWantToWorkWith</th>\n",
       "      <th>PlatformHaveWorkedWith</th>\n",
       "      <th>PlatformWantToWorkWith</th>\n",
       "      <th>WebframeHaveWorkedWith</th>\n",
       "      <th>WebframeWantToWorkWith</th>\n",
       "      <th>MiscTechHaveWorkedWith</th>\n",
       "      <th>...</th>\n",
       "      <th>Age</th>\n",
       "      <th>Gender</th>\n",
       "      <th>Trans</th>\n",
       "      <th>Sexuality</th>\n",
       "      <th>Ethnicity</th>\n",
       "      <th>Accessibility</th>\n",
       "      <th>MentalHealth</th>\n",
       "      <th>SurveyLength</th>\n",
       "      <th>SurveyEase</th>\n",
       "      <th>ConvertedCompYearly</th>\n",
       "    </tr>\n",
       "  </thead>\n",
       "  <tbody>\n",
       "    <tr>\n",
       "      <th>0</th>\n",
       "      <td>Monthly</td>\n",
       "      <td>C++;HTML/CSS;JavaScript;Objective-C;PHP;Swift</td>\n",
       "      <td>Swift</td>\n",
       "      <td>PostgreSQL;SQLite</td>\n",
       "      <td>SQLite</td>\n",
       "      <td>NaN</td>\n",
       "      <td>NaN</td>\n",
       "      <td>Laravel;Symfony</td>\n",
       "      <td>NaN</td>\n",
       "      <td>NaN</td>\n",
       "      <td>...</td>\n",
       "      <td>25-34 years old</td>\n",
       "      <td>Man</td>\n",
       "      <td>No</td>\n",
       "      <td>Straight / Heterosexual</td>\n",
       "      <td>White or of European descent</td>\n",
       "      <td>None of the above</td>\n",
       "      <td>None of the above</td>\n",
       "      <td>Appropriate in length</td>\n",
       "      <td>Easy</td>\n",
       "      <td>62268.0</td>\n",
       "    </tr>\n",
       "    <tr>\n",
       "      <th>1</th>\n",
       "      <td>NaN</td>\n",
       "      <td>JavaScript;Python</td>\n",
       "      <td>NaN</td>\n",
       "      <td>PostgreSQL</td>\n",
       "      <td>NaN</td>\n",
       "      <td>NaN</td>\n",
       "      <td>NaN</td>\n",
       "      <td>Angular;Flask;Vue.js</td>\n",
       "      <td>NaN</td>\n",
       "      <td>Cordova</td>\n",
       "      <td>...</td>\n",
       "      <td>18-24 years old</td>\n",
       "      <td>Man</td>\n",
       "      <td>No</td>\n",
       "      <td>Straight / Heterosexual</td>\n",
       "      <td>White or of European descent</td>\n",
       "      <td>None of the above</td>\n",
       "      <td>None of the above</td>\n",
       "      <td>Appropriate in length</td>\n",
       "      <td>Easy</td>\n",
       "      <td>NaN</td>\n",
       "    </tr>\n",
       "    <tr>\n",
       "      <th>2</th>\n",
       "      <td>NaN</td>\n",
       "      <td>Assembly;C;Python;R;Rust</td>\n",
       "      <td>Julia;Python;Rust</td>\n",
       "      <td>SQLite</td>\n",
       "      <td>SQLite</td>\n",
       "      <td>Heroku</td>\n",
       "      <td>NaN</td>\n",
       "      <td>Flask</td>\n",
       "      <td>Flask</td>\n",
       "      <td>NumPy;Pandas;TensorFlow;Torch/PyTorch</td>\n",
       "      <td>...</td>\n",
       "      <td>18-24 years old</td>\n",
       "      <td>Man</td>\n",
       "      <td>No</td>\n",
       "      <td>Prefer not to say</td>\n",
       "      <td>Prefer not to say</td>\n",
       "      <td>None of the above</td>\n",
       "      <td>None of the above</td>\n",
       "      <td>Appropriate in length</td>\n",
       "      <td>Easy</td>\n",
       "      <td>NaN</td>\n",
       "    </tr>\n",
       "    <tr>\n",
       "      <th>3</th>\n",
       "      <td>Monthly</td>\n",
       "      <td>JavaScript;TypeScript</td>\n",
       "      <td>JavaScript;TypeScript</td>\n",
       "      <td>NaN</td>\n",
       "      <td>NaN</td>\n",
       "      <td>NaN</td>\n",
       "      <td>NaN</td>\n",
       "      <td>Angular;jQuery</td>\n",
       "      <td>Angular;jQuery</td>\n",
       "      <td>NaN</td>\n",
       "      <td>...</td>\n",
       "      <td>35-44 years old</td>\n",
       "      <td>Man</td>\n",
       "      <td>No</td>\n",
       "      <td>Straight / Heterosexual</td>\n",
       "      <td>White or of European descent</td>\n",
       "      <td>I am deaf / hard of hearing</td>\n",
       "      <td>NaN</td>\n",
       "      <td>Appropriate in length</td>\n",
       "      <td>Neither easy nor difficult</td>\n",
       "      <td>NaN</td>\n",
       "    </tr>\n",
       "    <tr>\n",
       "      <th>4</th>\n",
       "      <td>NaN</td>\n",
       "      <td>Bash/Shell;HTML/CSS;Python;SQL</td>\n",
       "      <td>Bash/Shell;HTML/CSS;Python;SQL</td>\n",
       "      <td>Elasticsearch;PostgreSQL;Redis</td>\n",
       "      <td>Cassandra;Elasticsearch;PostgreSQL;Redis</td>\n",
       "      <td>NaN</td>\n",
       "      <td>NaN</td>\n",
       "      <td>Flask</td>\n",
       "      <td>Flask</td>\n",
       "      <td>Apache Spark;Hadoop;NumPy;Pandas</td>\n",
       "      <td>...</td>\n",
       "      <td>25-34 years old</td>\n",
       "      <td>Man</td>\n",
       "      <td>No</td>\n",
       "      <td>NaN</td>\n",
       "      <td>White or of European descent</td>\n",
       "      <td>None of the above</td>\n",
       "      <td>NaN</td>\n",
       "      <td>Appropriate in length</td>\n",
       "      <td>Easy</td>\n",
       "      <td>NaN</td>\n",
       "    </tr>\n",
       "  </tbody>\n",
       "</table>\n",
       "<p>5 rows × 33 columns</p>\n",
       "</div>"
      ],
      "text/plain": [
       "  CompFreq                         LanguageHaveWorkedWith  \\\n",
       "0  Monthly  C++;HTML/CSS;JavaScript;Objective-C;PHP;Swift   \n",
       "1      NaN                              JavaScript;Python   \n",
       "2      NaN                       Assembly;C;Python;R;Rust   \n",
       "3  Monthly                          JavaScript;TypeScript   \n",
       "4      NaN                 Bash/Shell;HTML/CSS;Python;SQL   \n",
       "\n",
       "           LanguageWantToWorkWith          DatabaseHaveWorkedWith  \\\n",
       "0                           Swift               PostgreSQL;SQLite   \n",
       "1                             NaN                      PostgreSQL   \n",
       "2               Julia;Python;Rust                          SQLite   \n",
       "3           JavaScript;TypeScript                             NaN   \n",
       "4  Bash/Shell;HTML/CSS;Python;SQL  Elasticsearch;PostgreSQL;Redis   \n",
       "\n",
       "                     DatabaseWantToWorkWith PlatformHaveWorkedWith  \\\n",
       "0                                    SQLite                    NaN   \n",
       "1                                       NaN                    NaN   \n",
       "2                                    SQLite                 Heroku   \n",
       "3                                       NaN                    NaN   \n",
       "4  Cassandra;Elasticsearch;PostgreSQL;Redis                    NaN   \n",
       "\n",
       "  PlatformWantToWorkWith WebframeHaveWorkedWith WebframeWantToWorkWith  \\\n",
       "0                    NaN        Laravel;Symfony                    NaN   \n",
       "1                    NaN   Angular;Flask;Vue.js                    NaN   \n",
       "2                    NaN                  Flask                  Flask   \n",
       "3                    NaN         Angular;jQuery         Angular;jQuery   \n",
       "4                    NaN                  Flask                  Flask   \n",
       "\n",
       "                  MiscTechHaveWorkedWith  ...              Age Gender Trans  \\\n",
       "0                                    NaN  ...  25-34 years old    Man    No   \n",
       "1                                Cordova  ...  18-24 years old    Man    No   \n",
       "2  NumPy;Pandas;TensorFlow;Torch/PyTorch  ...  18-24 years old    Man    No   \n",
       "3                                    NaN  ...  35-44 years old    Man    No   \n",
       "4       Apache Spark;Hadoop;NumPy;Pandas  ...  25-34 years old    Man    No   \n",
       "\n",
       "                 Sexuality                     Ethnicity  \\\n",
       "0  Straight / Heterosexual  White or of European descent   \n",
       "1  Straight / Heterosexual  White or of European descent   \n",
       "2        Prefer not to say             Prefer not to say   \n",
       "3  Straight / Heterosexual  White or of European descent   \n",
       "4                      NaN  White or of European descent   \n",
       "\n",
       "                 Accessibility       MentalHealth           SurveyLength  \\\n",
       "0            None of the above  None of the above  Appropriate in length   \n",
       "1            None of the above  None of the above  Appropriate in length   \n",
       "2            None of the above  None of the above  Appropriate in length   \n",
       "3  I am deaf / hard of hearing                NaN  Appropriate in length   \n",
       "4            None of the above                NaN  Appropriate in length   \n",
       "\n",
       "                   SurveyEase ConvertedCompYearly  \n",
       "0                        Easy             62268.0  \n",
       "1                        Easy                 NaN  \n",
       "2                        Easy                 NaN  \n",
       "3  Neither easy nor difficult                 NaN  \n",
       "4                        Easy                 NaN  \n",
       "\n",
       "[5 rows x 33 columns]"
      ]
     },
     "execution_count": 20,
     "metadata": {},
     "output_type": "execute_result"
    }
   ],
   "source": [
    "#show first 5 entries\n",
    "df.head().iloc[:,15:]"
   ]
  },
  {
   "cell_type": "code",
   "execution_count": 6,
   "id": "6199901c",
   "metadata": {},
   "outputs": [
    {
     "name": "stdout",
     "output_type": "stream",
     "text": [
      "<class 'pandas.core.frame.DataFrame'>\n",
      "RangeIndex: 83439 entries, 0 to 83438\n",
      "Data columns (total 48 columns):\n",
      " #   Column                        Non-Null Count  Dtype  \n",
      "---  ------                        --------------  -----  \n",
      " 0   ResponseId                    83439 non-null  int64  \n",
      " 1   MainBranch                    83439 non-null  object \n",
      " 2   Employment                    83323 non-null  object \n",
      " 3   Country                       83439 non-null  object \n",
      " 4   US_State                      14920 non-null  object \n",
      " 5   UK_Country                    4418 non-null   object \n",
      " 6   EdLevel                       83126 non-null  object \n",
      " 7   Age1stCode                    83243 non-null  object \n",
      " 8   LearnCode                     82963 non-null  object \n",
      " 9   YearsCode                     81641 non-null  object \n",
      " 10  YearsCodePro                  61216 non-null  object \n",
      " 11  DevType                       66484 non-null  object \n",
      " 12  OrgSize                       60726 non-null  object \n",
      " 13  Currency                      61080 non-null  object \n",
      " 14  CompTotal                     47183 non-null  float64\n",
      " 15  CompFreq                      52150 non-null  object \n",
      " 16  LanguageHaveWorkedWith        82357 non-null  object \n",
      " 17  LanguageWantToWorkWith        76821 non-null  object \n",
      " 18  DatabaseHaveWorkedWith        69546 non-null  object \n",
      " 19  DatabaseWantToWorkWith        58299 non-null  object \n",
      " 20  PlatformHaveWorkedWith        52135 non-null  object \n",
      " 21  PlatformWantToWorkWith        41619 non-null  object \n",
      " 22  WebframeHaveWorkedWith        61707 non-null  object \n",
      " 23  WebframeWantToWorkWith        52095 non-null  object \n",
      " 24  MiscTechHaveWorkedWith        47055 non-null  object \n",
      " 25  MiscTechWantToWorkWith        38021 non-null  object \n",
      " 26  ToolsTechHaveWorkedWith       72537 non-null  object \n",
      " 27  ToolsTechWantToWorkWith       65480 non-null  object \n",
      " 28  NEWCollabToolsHaveWorkedWith  81234 non-null  object \n",
      " 29  NEWCollabToolsWantToWorkWith  73022 non-null  object \n",
      " 30  OpSys                         83294 non-null  object \n",
      " 31  NEWStuck                      83052 non-null  object \n",
      " 32  NEWSOSites                    83171 non-null  object \n",
      " 33  SOVisitFreq                   82413 non-null  object \n",
      " 34  SOAccount                     82525 non-null  object \n",
      " 35  SOPartFreq                    67553 non-null  object \n",
      " 36  SOComm                        82319 non-null  object \n",
      " 37  NEWOtherComms                 82828 non-null  object \n",
      " 38  Age                           82407 non-null  object \n",
      " 39  Gender                        82286 non-null  object \n",
      " 40  Trans                         80678 non-null  object \n",
      " 41  Sexuality                     73366 non-null  object \n",
      " 42  Ethnicity                     79464 non-null  object \n",
      " 43  Accessibility                 77603 non-null  object \n",
      " 44  MentalHealth                  76920 non-null  object \n",
      " 45  SurveyLength                  81711 non-null  object \n",
      " 46  SurveyEase                    81948 non-null  object \n",
      " 47  ConvertedCompYearly           46844 non-null  float64\n",
      "dtypes: float64(2), int64(1), object(45)\n",
      "memory usage: 30.6+ MB\n"
     ]
    }
   ],
   "source": [
    "df.info()"
   ]
  },
  {
   "cell_type": "code",
   "execution_count": 7,
   "id": "f98986e2",
   "metadata": {
    "scrolled": false
   },
   "outputs": [
    {
     "data": {
      "text/plain": [
       "ResponseId                                                                  33516\n",
       "MainBranch                                         I am a developer by profession\n",
       "Employment                                     Not employed, but looking for work\n",
       "Country                                                                Cape Verde\n",
       "US_State                                                                      NaN\n",
       "UK_Country                                                                    NaN\n",
       "EdLevel                              Bachelor’s degree (B.A., B.S., B.Eng., etc.)\n",
       "Age1stCode                                                          11 - 17 years\n",
       "LearnCode                       Other online resources (ex: videos, blogs, etc...\n",
       "YearsCode                                                                       5\n",
       "YearsCodePro                                                                  NaN\n",
       "DevType                         Developer, mobile;Developer, front-end;Develop...\n",
       "OrgSize                                                                       NaN\n",
       "Currency                                                                      NaN\n",
       "CompTotal                                                                     NaN\n",
       "CompFreq                                                                      NaN\n",
       "LanguageHaveWorkedWith                HTML/CSS;Java;JavaScript;PHP;SQL;TypeScript\n",
       "LanguageWantToWorkWith                             HTML/CSS;JavaScript;TypeScript\n",
       "DatabaseHaveWorkedWith                                             Firebase;MySQL\n",
       "DatabaseWantToWorkWith                                                   Firebase\n",
       "PlatformHaveWorkedWith                                      Google Cloud Platform\n",
       "PlatformWantToWorkWith                                      Google Cloud Platform\n",
       "WebframeHaveWorkedWith                                                    Angular\n",
       "WebframeWantToWorkWith                                                    Angular\n",
       "MiscTechHaveWorkedWith                                                        NaN\n",
       "MiscTechWantToWorkWith                                                        NaN\n",
       "ToolsTechHaveWorkedWith                                                       Git\n",
       "ToolsTechWantToWorkWith                                                       Git\n",
       "NEWCollabToolsHaveWorkedWith                    Android Studio;Visual Studio Code\n",
       "NEWCollabToolsWantToWorkWith                    Android Studio;Visual Studio Code\n",
       "OpSys                                                                     Windows\n",
       "NEWStuck                        Visit Stack Overflow;Google it;Watch help / tu...\n",
       "NEWSOSites                                                         Stack Overflow\n",
       "SOVisitFreq                                                Multiple times per day\n",
       "SOAccount                                                                     Yes\n",
       "SOPartFreq                                    Less than once per month or monthly\n",
       "SOComm                                                              Yes, somewhat\n",
       "NEWOtherComms                                                                 Yes\n",
       "Age                                                               18-24 years old\n",
       "Gender                                                                        Man\n",
       "Trans                                                                          No\n",
       "Sexuality                                                 Straight / Heterosexual\n",
       "Ethnicity                                             Black or of African descent\n",
       "Accessibility                                                   None of the above\n",
       "MentalHealth                                                    None of the above\n",
       "SurveyLength                                                Appropriate in length\n",
       "SurveyEase                                                                   Easy\n",
       "ConvertedCompYearly                                                           NaN\n",
       "Name: 33515, dtype: object"
      ]
     },
     "execution_count": 7,
     "metadata": {},
     "output_type": "execute_result"
    }
   ],
   "source": [
    "#visualize a sample\n",
    "df.sample(1).iloc[0]"
   ]
  },
  {
   "cell_type": "markdown",
   "id": "fa3d9836",
   "metadata": {},
   "source": [
    "__________________"
   ]
  },
  {
   "cell_type": "code",
   "execution_count": 41,
   "id": "78135cb5",
   "metadata": {},
   "outputs": [
    {
     "data": {
      "text/html": [
       "<div>\n",
       "<style scoped>\n",
       "    .dataframe tbody tr th:only-of-type {\n",
       "        vertical-align: middle;\n",
       "    }\n",
       "\n",
       "    .dataframe tbody tr th {\n",
       "        vertical-align: top;\n",
       "    }\n",
       "\n",
       "    .dataframe thead th {\n",
       "        text-align: right;\n",
       "    }\n",
       "</style>\n",
       "<table border=\"1\" class=\"dataframe\">\n",
       "  <thead>\n",
       "    <tr style=\"text-align: right;\">\n",
       "      <th></th>\n",
       "      <th>Country</th>\n",
       "      <th>count</th>\n",
       "    </tr>\n",
       "  </thead>\n",
       "  <tbody>\n",
       "    <tr>\n",
       "      <th>0</th>\n",
       "      <td>United States of America</td>\n",
       "      <td>15288</td>\n",
       "    </tr>\n",
       "    <tr>\n",
       "      <th>1</th>\n",
       "      <td>India</td>\n",
       "      <td>10511</td>\n",
       "    </tr>\n",
       "    <tr>\n",
       "      <th>2</th>\n",
       "      <td>Germany</td>\n",
       "      <td>5625</td>\n",
       "    </tr>\n",
       "    <tr>\n",
       "      <th>3</th>\n",
       "      <td>United Kingdom of Great Britain and Northern I...</td>\n",
       "      <td>4475</td>\n",
       "    </tr>\n",
       "    <tr>\n",
       "      <th>4</th>\n",
       "      <td>Canada</td>\n",
       "      <td>3012</td>\n",
       "    </tr>\n",
       "  </tbody>\n",
       "</table>\n",
       "</div>"
      ],
      "text/plain": [
       "                                             Country  count\n",
       "0                           United States of America  15288\n",
       "1                                              India  10511\n",
       "2                                            Germany   5625\n",
       "3  United Kingdom of Great Britain and Northern I...   4475\n",
       "4                                             Canada   3012"
      ]
     },
     "execution_count": 41,
     "metadata": {},
     "output_type": "execute_result"
    }
   ],
   "source": [
    "df_comp = df['Country'].value_counts()\n",
    "df_country = pd.DataFrame({'Country':df_comp.index, 'count': df_comp.values})\n",
    "df_country.head()"
   ]
  },
  {
   "cell_type": "code",
   "execution_count": 42,
   "id": "0cf436c7",
   "metadata": {
    "scrolled": false
   },
   "outputs": [
    {
     "data": {
      "application/vnd.plotly.v1+json": {
       "config": {
        "plotlyServerURL": "https://plot.ly"
       },
       "data": [
        {
         "alignmentgroup": "True",
         "hovertemplate": "count=%{x}<br>Country=%{y}<extra></extra>",
         "legendgroup": "",
         "marker": {
          "color": "#636efa",
          "pattern": {
           "shape": ""
          }
         },
         "name": "",
         "offsetgroup": "",
         "orientation": "h",
         "showlegend": false,
         "textposition": "auto",
         "type": "bar",
         "x": [
          15288,
          10511,
          5625,
          4475,
          3012,
          2708,
          2254,
          1805,
          1772,
          1666,
          1646,
          1485,
          1474,
          1196,
          1055,
          1054,
          922,
          913,
          900,
          838,
          808,
          792,
          770,
          704,
          697,
          695,
          650,
          632,
          603,
          602,
          599,
          587,
          571,
          530,
          528,
          522,
          521,
          478,
          429,
          409,
          402,
          396,
          386,
          386,
          382,
          381,
          339,
          337,
          333,
          310,
          302,
          263,
          252,
          250,
          235,
          230,
          208,
          204,
          198,
          189,
          184,
          182,
          165,
          161,
          150,
          147,
          144,
          137,
          130,
          130,
          113,
          107,
          104,
          104,
          103,
          92,
          91,
          77,
          76,
          73,
          72,
          69,
          68,
          65,
          65,
          64,
          63,
          58,
          56,
          55,
          55,
          54,
          54,
          54,
          51,
          51,
          48,
          47,
          46,
          45,
          43,
          43,
          42,
          38,
          36,
          35,
          34,
          34,
          32,
          31,
          31,
          29,
          29,
          28,
          28,
          27,
          27,
          25,
          24,
          22,
          21,
          21,
          20,
          20,
          20,
          20,
          18,
          18,
          17,
          17,
          16,
          15,
          13,
          12,
          12,
          12,
          12,
          12,
          11,
          11,
          10,
          10,
          9,
          7,
          7,
          7,
          7,
          6,
          6,
          6,
          5,
          5,
          5,
          5,
          5,
          5,
          5,
          4,
          4,
          4,
          4,
          3,
          3,
          3,
          3,
          3,
          2,
          2,
          2,
          2,
          2,
          2,
          2,
          2,
          1,
          1,
          1,
          1,
          1,
          1,
          1
         ],
         "xaxis": "x",
         "y": [
          "United States of America",
          "India",
          "Germany",
          "United Kingdom of Great Britain and Northern Ireland",
          "Canada",
          "France",
          "Brazil",
          "Poland",
          "Netherlands",
          "Italy",
          "Australia",
          "Spain",
          "Russian Federation",
          "Sweden",
          "China",
          "Turkey",
          "Switzerland",
          "Israel",
          "Iran, Islamic Republic of...",
          "Pakistan",
          "Austria",
          "Czech Republic",
          "Ukraine",
          "Bangladesh",
          "Belgium",
          "Mexico",
          "Romania",
          "Indonesia",
          "Greece",
          "Norway",
          "Denmark",
          "Argentina",
          "South Africa",
          "Portugal",
          "Finland",
          "New Zealand",
          "Egypt",
          "Hungary",
          "Japan",
          "Nigeria",
          "Bulgaria",
          "Sri Lanka",
          "Viet Nam",
          "Ireland",
          "Philippines",
          "Colombia",
          "Singapore",
          "Nepal",
          "Malaysia",
          "Serbia",
          "Taiwan",
          "Kenya",
          "Slovakia",
          "Croatia",
          "Slovenia",
          "Chile",
          "Lithuania",
          "Morocco",
          "Hong Kong (S.A.R.)",
          "South Korea",
          "Thailand",
          "United Arab Emirates",
          "Belarus",
          "Georgia",
          "Tunisia",
          "Peru",
          "Uruguay",
          "Saudi Arabia",
          "Bosnia and Herzegovina",
          "Estonia",
          "Lebanon",
          "Latvia",
          "Dominican Republic",
          "Venezuela, Bolivarian Republic of...",
          "Ecuador",
          "Armenia",
          "Ghana",
          "Costa Rica",
          "Iraq",
          "Albania",
          "Jordan",
          "Ethiopia",
          "Uzbekistan",
          "Afghanistan",
          "Kazakhstan",
          "Azerbaijan",
          "Uganda",
          "Guatemala",
          "Cyprus",
          "Myanmar",
          "Republic of Moldova",
          "Republic of Korea",
          "Nomadic",
          "The former Yugoslav Republic of Macedonia",
          "Luxembourg",
          "Syrian Arab Republic",
          "Bolivia",
          "Paraguay",
          "Algeria",
          "Kosovo",
          "United Republic of Tanzania",
          "Iceland",
          "Malta",
          "Cameroon",
          "Zimbabwe",
          "Cambodia",
          "Rwanda",
          "Cuba",
          "El Salvador",
          "Panama",
          "Mauritius",
          "Qatar",
          "Kuwait",
          "Bahrain",
          "Senegal",
          "Angola",
          "Sudan",
          "Palestine",
          "Honduras",
          "Zambia",
          "Mongolia",
          "Kyrgyzstan",
          "Jamaica",
          "Trinidad and Tobago",
          "Yemen",
          "Oman",
          "Nicaragua",
          "Madagascar",
          "Montenegro",
          "Côte d'Ivoire",
          "Maldives",
          "Benin",
          "Turkmenistan",
          "Mozambique",
          "Namibia",
          "Andorra",
          "Barbados",
          "Congo, Republic of the...",
          "Libyan Arab Jamahiriya",
          "Malawi",
          "Democratic Republic of the Congo",
          "Swaziland",
          "Tajikistan",
          "Bahamas",
          "Togo",
          "Somalia",
          "Guyana",
          "Botswana",
          "Cape Verde",
          "North Korea",
          "Haiti",
          "Belize",
          "Isle of Man",
          "Mauritania",
          "Bhutan",
          "Suriname",
          "Burundi",
          "Fiji",
          "Burkina Faso",
          "Lesotho",
          "Lao People's Democratic Republic",
          "Niger",
          "Central African Republic",
          "Liberia",
          "Saint Lucia",
          "Djibouti",
          "San Marino",
          "Guinea",
          "Sierra Leone",
          "Micronesia, Federated States of...",
          "Chad",
          "Gambia",
          "Monaco",
          "Mali",
          "Brunei Darussalam",
          "Liechtenstein",
          "Saint Kitts and Nevis",
          "Dominica",
          "Saint Vincent and the Grenadines",
          "Tuvalu",
          "Papua New Guinea"
         ],
         "yaxis": "y"
        }
       ],
       "layout": {
        "barmode": "relative",
        "legend": {
         "tracegroupgap": 0
        },
        "margin": {
         "t": 60
        },
        "template": {
         "data": {
          "bar": [
           {
            "error_x": {
             "color": "#2a3f5f"
            },
            "error_y": {
             "color": "#2a3f5f"
            },
            "marker": {
             "line": {
              "color": "#E5ECF6",
              "width": 0.5
             },
             "pattern": {
              "fillmode": "overlay",
              "size": 10,
              "solidity": 0.2
             }
            },
            "type": "bar"
           }
          ],
          "barpolar": [
           {
            "marker": {
             "line": {
              "color": "#E5ECF6",
              "width": 0.5
             },
             "pattern": {
              "fillmode": "overlay",
              "size": 10,
              "solidity": 0.2
             }
            },
            "type": "barpolar"
           }
          ],
          "carpet": [
           {
            "aaxis": {
             "endlinecolor": "#2a3f5f",
             "gridcolor": "white",
             "linecolor": "white",
             "minorgridcolor": "white",
             "startlinecolor": "#2a3f5f"
            },
            "baxis": {
             "endlinecolor": "#2a3f5f",
             "gridcolor": "white",
             "linecolor": "white",
             "minorgridcolor": "white",
             "startlinecolor": "#2a3f5f"
            },
            "type": "carpet"
           }
          ],
          "choropleth": [
           {
            "colorbar": {
             "outlinewidth": 0,
             "ticks": ""
            },
            "type": "choropleth"
           }
          ],
          "contour": [
           {
            "colorbar": {
             "outlinewidth": 0,
             "ticks": ""
            },
            "colorscale": [
             [
              0,
              "#0d0887"
             ],
             [
              0.1111111111111111,
              "#46039f"
             ],
             [
              0.2222222222222222,
              "#7201a8"
             ],
             [
              0.3333333333333333,
              "#9c179e"
             ],
             [
              0.4444444444444444,
              "#bd3786"
             ],
             [
              0.5555555555555556,
              "#d8576b"
             ],
             [
              0.6666666666666666,
              "#ed7953"
             ],
             [
              0.7777777777777778,
              "#fb9f3a"
             ],
             [
              0.8888888888888888,
              "#fdca26"
             ],
             [
              1,
              "#f0f921"
             ]
            ],
            "type": "contour"
           }
          ],
          "contourcarpet": [
           {
            "colorbar": {
             "outlinewidth": 0,
             "ticks": ""
            },
            "type": "contourcarpet"
           }
          ],
          "heatmap": [
           {
            "colorbar": {
             "outlinewidth": 0,
             "ticks": ""
            },
            "colorscale": [
             [
              0,
              "#0d0887"
             ],
             [
              0.1111111111111111,
              "#46039f"
             ],
             [
              0.2222222222222222,
              "#7201a8"
             ],
             [
              0.3333333333333333,
              "#9c179e"
             ],
             [
              0.4444444444444444,
              "#bd3786"
             ],
             [
              0.5555555555555556,
              "#d8576b"
             ],
             [
              0.6666666666666666,
              "#ed7953"
             ],
             [
              0.7777777777777778,
              "#fb9f3a"
             ],
             [
              0.8888888888888888,
              "#fdca26"
             ],
             [
              1,
              "#f0f921"
             ]
            ],
            "type": "heatmap"
           }
          ],
          "heatmapgl": [
           {
            "colorbar": {
             "outlinewidth": 0,
             "ticks": ""
            },
            "colorscale": [
             [
              0,
              "#0d0887"
             ],
             [
              0.1111111111111111,
              "#46039f"
             ],
             [
              0.2222222222222222,
              "#7201a8"
             ],
             [
              0.3333333333333333,
              "#9c179e"
             ],
             [
              0.4444444444444444,
              "#bd3786"
             ],
             [
              0.5555555555555556,
              "#d8576b"
             ],
             [
              0.6666666666666666,
              "#ed7953"
             ],
             [
              0.7777777777777778,
              "#fb9f3a"
             ],
             [
              0.8888888888888888,
              "#fdca26"
             ],
             [
              1,
              "#f0f921"
             ]
            ],
            "type": "heatmapgl"
           }
          ],
          "histogram": [
           {
            "marker": {
             "pattern": {
              "fillmode": "overlay",
              "size": 10,
              "solidity": 0.2
             }
            },
            "type": "histogram"
           }
          ],
          "histogram2d": [
           {
            "colorbar": {
             "outlinewidth": 0,
             "ticks": ""
            },
            "colorscale": [
             [
              0,
              "#0d0887"
             ],
             [
              0.1111111111111111,
              "#46039f"
             ],
             [
              0.2222222222222222,
              "#7201a8"
             ],
             [
              0.3333333333333333,
              "#9c179e"
             ],
             [
              0.4444444444444444,
              "#bd3786"
             ],
             [
              0.5555555555555556,
              "#d8576b"
             ],
             [
              0.6666666666666666,
              "#ed7953"
             ],
             [
              0.7777777777777778,
              "#fb9f3a"
             ],
             [
              0.8888888888888888,
              "#fdca26"
             ],
             [
              1,
              "#f0f921"
             ]
            ],
            "type": "histogram2d"
           }
          ],
          "histogram2dcontour": [
           {
            "colorbar": {
             "outlinewidth": 0,
             "ticks": ""
            },
            "colorscale": [
             [
              0,
              "#0d0887"
             ],
             [
              0.1111111111111111,
              "#46039f"
             ],
             [
              0.2222222222222222,
              "#7201a8"
             ],
             [
              0.3333333333333333,
              "#9c179e"
             ],
             [
              0.4444444444444444,
              "#bd3786"
             ],
             [
              0.5555555555555556,
              "#d8576b"
             ],
             [
              0.6666666666666666,
              "#ed7953"
             ],
             [
              0.7777777777777778,
              "#fb9f3a"
             ],
             [
              0.8888888888888888,
              "#fdca26"
             ],
             [
              1,
              "#f0f921"
             ]
            ],
            "type": "histogram2dcontour"
           }
          ],
          "mesh3d": [
           {
            "colorbar": {
             "outlinewidth": 0,
             "ticks": ""
            },
            "type": "mesh3d"
           }
          ],
          "parcoords": [
           {
            "line": {
             "colorbar": {
              "outlinewidth": 0,
              "ticks": ""
             }
            },
            "type": "parcoords"
           }
          ],
          "pie": [
           {
            "automargin": true,
            "type": "pie"
           }
          ],
          "scatter": [
           {
            "fillpattern": {
             "fillmode": "overlay",
             "size": 10,
             "solidity": 0.2
            },
            "type": "scatter"
           }
          ],
          "scatter3d": [
           {
            "line": {
             "colorbar": {
              "outlinewidth": 0,
              "ticks": ""
             }
            },
            "marker": {
             "colorbar": {
              "outlinewidth": 0,
              "ticks": ""
             }
            },
            "type": "scatter3d"
           }
          ],
          "scattercarpet": [
           {
            "marker": {
             "colorbar": {
              "outlinewidth": 0,
              "ticks": ""
             }
            },
            "type": "scattercarpet"
           }
          ],
          "scattergeo": [
           {
            "marker": {
             "colorbar": {
              "outlinewidth": 0,
              "ticks": ""
             }
            },
            "type": "scattergeo"
           }
          ],
          "scattergl": [
           {
            "marker": {
             "colorbar": {
              "outlinewidth": 0,
              "ticks": ""
             }
            },
            "type": "scattergl"
           }
          ],
          "scattermapbox": [
           {
            "marker": {
             "colorbar": {
              "outlinewidth": 0,
              "ticks": ""
             }
            },
            "type": "scattermapbox"
           }
          ],
          "scatterpolar": [
           {
            "marker": {
             "colorbar": {
              "outlinewidth": 0,
              "ticks": ""
             }
            },
            "type": "scatterpolar"
           }
          ],
          "scatterpolargl": [
           {
            "marker": {
             "colorbar": {
              "outlinewidth": 0,
              "ticks": ""
             }
            },
            "type": "scatterpolargl"
           }
          ],
          "scatterternary": [
           {
            "marker": {
             "colorbar": {
              "outlinewidth": 0,
              "ticks": ""
             }
            },
            "type": "scatterternary"
           }
          ],
          "surface": [
           {
            "colorbar": {
             "outlinewidth": 0,
             "ticks": ""
            },
            "colorscale": [
             [
              0,
              "#0d0887"
             ],
             [
              0.1111111111111111,
              "#46039f"
             ],
             [
              0.2222222222222222,
              "#7201a8"
             ],
             [
              0.3333333333333333,
              "#9c179e"
             ],
             [
              0.4444444444444444,
              "#bd3786"
             ],
             [
              0.5555555555555556,
              "#d8576b"
             ],
             [
              0.6666666666666666,
              "#ed7953"
             ],
             [
              0.7777777777777778,
              "#fb9f3a"
             ],
             [
              0.8888888888888888,
              "#fdca26"
             ],
             [
              1,
              "#f0f921"
             ]
            ],
            "type": "surface"
           }
          ],
          "table": [
           {
            "cells": {
             "fill": {
              "color": "#EBF0F8"
             },
             "line": {
              "color": "white"
             }
            },
            "header": {
             "fill": {
              "color": "#C8D4E3"
             },
             "line": {
              "color": "white"
             }
            },
            "type": "table"
           }
          ]
         },
         "layout": {
          "annotationdefaults": {
           "arrowcolor": "#2a3f5f",
           "arrowhead": 0,
           "arrowwidth": 1
          },
          "autotypenumbers": "strict",
          "coloraxis": {
           "colorbar": {
            "outlinewidth": 0,
            "ticks": ""
           }
          },
          "colorscale": {
           "diverging": [
            [
             0,
             "#8e0152"
            ],
            [
             0.1,
             "#c51b7d"
            ],
            [
             0.2,
             "#de77ae"
            ],
            [
             0.3,
             "#f1b6da"
            ],
            [
             0.4,
             "#fde0ef"
            ],
            [
             0.5,
             "#f7f7f7"
            ],
            [
             0.6,
             "#e6f5d0"
            ],
            [
             0.7,
             "#b8e186"
            ],
            [
             0.8,
             "#7fbc41"
            ],
            [
             0.9,
             "#4d9221"
            ],
            [
             1,
             "#276419"
            ]
           ],
           "sequential": [
            [
             0,
             "#0d0887"
            ],
            [
             0.1111111111111111,
             "#46039f"
            ],
            [
             0.2222222222222222,
             "#7201a8"
            ],
            [
             0.3333333333333333,
             "#9c179e"
            ],
            [
             0.4444444444444444,
             "#bd3786"
            ],
            [
             0.5555555555555556,
             "#d8576b"
            ],
            [
             0.6666666666666666,
             "#ed7953"
            ],
            [
             0.7777777777777778,
             "#fb9f3a"
            ],
            [
             0.8888888888888888,
             "#fdca26"
            ],
            [
             1,
             "#f0f921"
            ]
           ],
           "sequentialminus": [
            [
             0,
             "#0d0887"
            ],
            [
             0.1111111111111111,
             "#46039f"
            ],
            [
             0.2222222222222222,
             "#7201a8"
            ],
            [
             0.3333333333333333,
             "#9c179e"
            ],
            [
             0.4444444444444444,
             "#bd3786"
            ],
            [
             0.5555555555555556,
             "#d8576b"
            ],
            [
             0.6666666666666666,
             "#ed7953"
            ],
            [
             0.7777777777777778,
             "#fb9f3a"
            ],
            [
             0.8888888888888888,
             "#fdca26"
            ],
            [
             1,
             "#f0f921"
            ]
           ]
          },
          "colorway": [
           "#636efa",
           "#EF553B",
           "#00cc96",
           "#ab63fa",
           "#FFA15A",
           "#19d3f3",
           "#FF6692",
           "#B6E880",
           "#FF97FF",
           "#FECB52"
          ],
          "font": {
           "color": "#2a3f5f"
          },
          "geo": {
           "bgcolor": "white",
           "lakecolor": "white",
           "landcolor": "#E5ECF6",
           "showlakes": true,
           "showland": true,
           "subunitcolor": "white"
          },
          "hoverlabel": {
           "align": "left"
          },
          "hovermode": "closest",
          "mapbox": {
           "style": "light"
          },
          "paper_bgcolor": "white",
          "plot_bgcolor": "#E5ECF6",
          "polar": {
           "angularaxis": {
            "gridcolor": "white",
            "linecolor": "white",
            "ticks": ""
           },
           "bgcolor": "#E5ECF6",
           "radialaxis": {
            "gridcolor": "white",
            "linecolor": "white",
            "ticks": ""
           }
          },
          "scene": {
           "xaxis": {
            "backgroundcolor": "#E5ECF6",
            "gridcolor": "white",
            "gridwidth": 2,
            "linecolor": "white",
            "showbackground": true,
            "ticks": "",
            "zerolinecolor": "white"
           },
           "yaxis": {
            "backgroundcolor": "#E5ECF6",
            "gridcolor": "white",
            "gridwidth": 2,
            "linecolor": "white",
            "showbackground": true,
            "ticks": "",
            "zerolinecolor": "white"
           },
           "zaxis": {
            "backgroundcolor": "#E5ECF6",
            "gridcolor": "white",
            "gridwidth": 2,
            "linecolor": "white",
            "showbackground": true,
            "ticks": "",
            "zerolinecolor": "white"
           }
          },
          "shapedefaults": {
           "line": {
            "color": "#2a3f5f"
           }
          },
          "ternary": {
           "aaxis": {
            "gridcolor": "white",
            "linecolor": "white",
            "ticks": ""
           },
           "baxis": {
            "gridcolor": "white",
            "linecolor": "white",
            "ticks": ""
           },
           "bgcolor": "#E5ECF6",
           "caxis": {
            "gridcolor": "white",
            "linecolor": "white",
            "ticks": ""
           }
          },
          "title": {
           "x": 0.05
          },
          "xaxis": {
           "automargin": true,
           "gridcolor": "white",
           "linecolor": "white",
           "ticks": "",
           "title": {
            "standoff": 15
           },
           "zerolinecolor": "white",
           "zerolinewidth": 2
          },
          "yaxis": {
           "automargin": true,
           "gridcolor": "white",
           "linecolor": "white",
           "ticks": "",
           "title": {
            "standoff": 15
           },
           "zerolinecolor": "white",
           "zerolinewidth": 2
          }
         }
        },
        "xaxis": {
         "anchor": "y",
         "domain": [
          0,
          1
         ],
         "title": {
          "text": "count"
         }
        },
        "yaxis": {
         "anchor": "x",
         "domain": [
          0,
          1
         ],
         "title": {
          "text": "Country"
         }
        }
       }
      },
      "text/html": [
       "<div>                            <div id=\"b8f1b469-20cc-4b97-bcb6-a673e411570f\" class=\"plotly-graph-div\" style=\"height:525px; width:100%;\"></div>            <script type=\"text/javascript\">                require([\"plotly\"], function(Plotly) {                    window.PLOTLYENV=window.PLOTLYENV || {};                                    if (document.getElementById(\"b8f1b469-20cc-4b97-bcb6-a673e411570f\")) {                    Plotly.newPlot(                        \"b8f1b469-20cc-4b97-bcb6-a673e411570f\",                        [{\"alignmentgroup\":\"True\",\"hovertemplate\":\"count=%{x}<br>Country=%{y}<extra></extra>\",\"legendgroup\":\"\",\"marker\":{\"color\":\"#636efa\",\"pattern\":{\"shape\":\"\"}},\"name\":\"\",\"offsetgroup\":\"\",\"orientation\":\"h\",\"showlegend\":false,\"textposition\":\"auto\",\"x\":[15288,10511,5625,4475,3012,2708,2254,1805,1772,1666,1646,1485,1474,1196,1055,1054,922,913,900,838,808,792,770,704,697,695,650,632,603,602,599,587,571,530,528,522,521,478,429,409,402,396,386,386,382,381,339,337,333,310,302,263,252,250,235,230,208,204,198,189,184,182,165,161,150,147,144,137,130,130,113,107,104,104,103,92,91,77,76,73,72,69,68,65,65,64,63,58,56,55,55,54,54,54,51,51,48,47,46,45,43,43,42,38,36,35,34,34,32,31,31,29,29,28,28,27,27,25,24,22,21,21,20,20,20,20,18,18,17,17,16,15,13,12,12,12,12,12,11,11,10,10,9,7,7,7,7,6,6,6,5,5,5,5,5,5,5,4,4,4,4,3,3,3,3,3,2,2,2,2,2,2,2,2,1,1,1,1,1,1,1],\"xaxis\":\"x\",\"y\":[\"United States of America\",\"India\",\"Germany\",\"United Kingdom of Great Britain and Northern Ireland\",\"Canada\",\"France\",\"Brazil\",\"Poland\",\"Netherlands\",\"Italy\",\"Australia\",\"Spain\",\"Russian Federation\",\"Sweden\",\"China\",\"Turkey\",\"Switzerland\",\"Israel\",\"Iran, Islamic Republic of...\",\"Pakistan\",\"Austria\",\"Czech Republic\",\"Ukraine\",\"Bangladesh\",\"Belgium\",\"Mexico\",\"Romania\",\"Indonesia\",\"Greece\",\"Norway\",\"Denmark\",\"Argentina\",\"South Africa\",\"Portugal\",\"Finland\",\"New Zealand\",\"Egypt\",\"Hungary\",\"Japan\",\"Nigeria\",\"Bulgaria\",\"Sri Lanka\",\"Viet Nam\",\"Ireland\",\"Philippines\",\"Colombia\",\"Singapore\",\"Nepal\",\"Malaysia\",\"Serbia\",\"Taiwan\",\"Kenya\",\"Slovakia\",\"Croatia\",\"Slovenia\",\"Chile\",\"Lithuania\",\"Morocco\",\"Hong Kong (S.A.R.)\",\"South Korea\",\"Thailand\",\"United Arab Emirates\",\"Belarus\",\"Georgia\",\"Tunisia\",\"Peru\",\"Uruguay\",\"Saudi Arabia\",\"Bosnia and Herzegovina\",\"Estonia\",\"Lebanon\",\"Latvia\",\"Dominican Republic\",\"Venezuela, Bolivarian Republic of...\",\"Ecuador\",\"Armenia\",\"Ghana\",\"Costa Rica\",\"Iraq\",\"Albania\",\"Jordan\",\"Ethiopia\",\"Uzbekistan\",\"Afghanistan\",\"Kazakhstan\",\"Azerbaijan\",\"Uganda\",\"Guatemala\",\"Cyprus\",\"Myanmar\",\"Republic of Moldova\",\"Republic of Korea\",\"Nomadic\",\"The former Yugoslav Republic of Macedonia\",\"Luxembourg\",\"Syrian Arab Republic\",\"Bolivia\",\"Paraguay\",\"Algeria\",\"Kosovo\",\"United Republic of Tanzania\",\"Iceland\",\"Malta\",\"Cameroon\",\"Zimbabwe\",\"Cambodia\",\"Rwanda\",\"Cuba\",\"El Salvador\",\"Panama\",\"Mauritius\",\"Qatar\",\"Kuwait\",\"Bahrain\",\"Senegal\",\"Angola\",\"Sudan\",\"Palestine\",\"Honduras\",\"Zambia\",\"Mongolia\",\"Kyrgyzstan\",\"Jamaica\",\"Trinidad and Tobago\",\"Yemen\",\"Oman\",\"Nicaragua\",\"Madagascar\",\"Montenegro\",\"C\\u00f4te d'Ivoire\",\"Maldives\",\"Benin\",\"Turkmenistan\",\"Mozambique\",\"Namibia\",\"Andorra\",\"Barbados\",\"Congo, Republic of the...\",\"Libyan Arab Jamahiriya\",\"Malawi\",\"Democratic Republic of the Congo\",\"Swaziland\",\"Tajikistan\",\"Bahamas\",\"Togo\",\"Somalia\",\"Guyana\",\"Botswana\",\"Cape Verde\",\"North Korea\",\"Haiti\",\"Belize\",\"Isle of Man\",\"Mauritania\",\"Bhutan\",\"Suriname\",\"Burundi\",\"Fiji\",\"Burkina Faso\",\"Lesotho\",\"Lao People's Democratic Republic\",\"Niger\",\"Central African Republic\",\"Liberia\",\"Saint Lucia\",\"Djibouti\",\"San Marino\",\"Guinea\",\"Sierra Leone\",\"Micronesia, Federated States of...\",\"Chad\",\"Gambia\",\"Monaco\",\"Mali\",\"Brunei Darussalam\",\"Liechtenstein\",\"Saint Kitts and Nevis\",\"Dominica\",\"Saint Vincent and the Grenadines\",\"Tuvalu\",\"Papua New Guinea\"],\"yaxis\":\"y\",\"type\":\"bar\"}],                        {\"template\":{\"data\":{\"histogram2dcontour\":[{\"type\":\"histogram2dcontour\",\"colorbar\":{\"outlinewidth\":0,\"ticks\":\"\"},\"colorscale\":[[0.0,\"#0d0887\"],[0.1111111111111111,\"#46039f\"],[0.2222222222222222,\"#7201a8\"],[0.3333333333333333,\"#9c179e\"],[0.4444444444444444,\"#bd3786\"],[0.5555555555555556,\"#d8576b\"],[0.6666666666666666,\"#ed7953\"],[0.7777777777777778,\"#fb9f3a\"],[0.8888888888888888,\"#fdca26\"],[1.0,\"#f0f921\"]]}],\"choropleth\":[{\"type\":\"choropleth\",\"colorbar\":{\"outlinewidth\":0,\"ticks\":\"\"}}],\"histogram2d\":[{\"type\":\"histogram2d\",\"colorbar\":{\"outlinewidth\":0,\"ticks\":\"\"},\"colorscale\":[[0.0,\"#0d0887\"],[0.1111111111111111,\"#46039f\"],[0.2222222222222222,\"#7201a8\"],[0.3333333333333333,\"#9c179e\"],[0.4444444444444444,\"#bd3786\"],[0.5555555555555556,\"#d8576b\"],[0.6666666666666666,\"#ed7953\"],[0.7777777777777778,\"#fb9f3a\"],[0.8888888888888888,\"#fdca26\"],[1.0,\"#f0f921\"]]}],\"heatmap\":[{\"type\":\"heatmap\",\"colorbar\":{\"outlinewidth\":0,\"ticks\":\"\"},\"colorscale\":[[0.0,\"#0d0887\"],[0.1111111111111111,\"#46039f\"],[0.2222222222222222,\"#7201a8\"],[0.3333333333333333,\"#9c179e\"],[0.4444444444444444,\"#bd3786\"],[0.5555555555555556,\"#d8576b\"],[0.6666666666666666,\"#ed7953\"],[0.7777777777777778,\"#fb9f3a\"],[0.8888888888888888,\"#fdca26\"],[1.0,\"#f0f921\"]]}],\"heatmapgl\":[{\"type\":\"heatmapgl\",\"colorbar\":{\"outlinewidth\":0,\"ticks\":\"\"},\"colorscale\":[[0.0,\"#0d0887\"],[0.1111111111111111,\"#46039f\"],[0.2222222222222222,\"#7201a8\"],[0.3333333333333333,\"#9c179e\"],[0.4444444444444444,\"#bd3786\"],[0.5555555555555556,\"#d8576b\"],[0.6666666666666666,\"#ed7953\"],[0.7777777777777778,\"#fb9f3a\"],[0.8888888888888888,\"#fdca26\"],[1.0,\"#f0f921\"]]}],\"contourcarpet\":[{\"type\":\"contourcarpet\",\"colorbar\":{\"outlinewidth\":0,\"ticks\":\"\"}}],\"contour\":[{\"type\":\"contour\",\"colorbar\":{\"outlinewidth\":0,\"ticks\":\"\"},\"colorscale\":[[0.0,\"#0d0887\"],[0.1111111111111111,\"#46039f\"],[0.2222222222222222,\"#7201a8\"],[0.3333333333333333,\"#9c179e\"],[0.4444444444444444,\"#bd3786\"],[0.5555555555555556,\"#d8576b\"],[0.6666666666666666,\"#ed7953\"],[0.7777777777777778,\"#fb9f3a\"],[0.8888888888888888,\"#fdca26\"],[1.0,\"#f0f921\"]]}],\"surface\":[{\"type\":\"surface\",\"colorbar\":{\"outlinewidth\":0,\"ticks\":\"\"},\"colorscale\":[[0.0,\"#0d0887\"],[0.1111111111111111,\"#46039f\"],[0.2222222222222222,\"#7201a8\"],[0.3333333333333333,\"#9c179e\"],[0.4444444444444444,\"#bd3786\"],[0.5555555555555556,\"#d8576b\"],[0.6666666666666666,\"#ed7953\"],[0.7777777777777778,\"#fb9f3a\"],[0.8888888888888888,\"#fdca26\"],[1.0,\"#f0f921\"]]}],\"mesh3d\":[{\"type\":\"mesh3d\",\"colorbar\":{\"outlinewidth\":0,\"ticks\":\"\"}}],\"scatter\":[{\"fillpattern\":{\"fillmode\":\"overlay\",\"size\":10,\"solidity\":0.2},\"type\":\"scatter\"}],\"parcoords\":[{\"type\":\"parcoords\",\"line\":{\"colorbar\":{\"outlinewidth\":0,\"ticks\":\"\"}}}],\"scatterpolargl\":[{\"type\":\"scatterpolargl\",\"marker\":{\"colorbar\":{\"outlinewidth\":0,\"ticks\":\"\"}}}],\"bar\":[{\"error_x\":{\"color\":\"#2a3f5f\"},\"error_y\":{\"color\":\"#2a3f5f\"},\"marker\":{\"line\":{\"color\":\"#E5ECF6\",\"width\":0.5},\"pattern\":{\"fillmode\":\"overlay\",\"size\":10,\"solidity\":0.2}},\"type\":\"bar\"}],\"scattergeo\":[{\"type\":\"scattergeo\",\"marker\":{\"colorbar\":{\"outlinewidth\":0,\"ticks\":\"\"}}}],\"scatterpolar\":[{\"type\":\"scatterpolar\",\"marker\":{\"colorbar\":{\"outlinewidth\":0,\"ticks\":\"\"}}}],\"histogram\":[{\"marker\":{\"pattern\":{\"fillmode\":\"overlay\",\"size\":10,\"solidity\":0.2}},\"type\":\"histogram\"}],\"scattergl\":[{\"type\":\"scattergl\",\"marker\":{\"colorbar\":{\"outlinewidth\":0,\"ticks\":\"\"}}}],\"scatter3d\":[{\"type\":\"scatter3d\",\"line\":{\"colorbar\":{\"outlinewidth\":0,\"ticks\":\"\"}},\"marker\":{\"colorbar\":{\"outlinewidth\":0,\"ticks\":\"\"}}}],\"scattermapbox\":[{\"type\":\"scattermapbox\",\"marker\":{\"colorbar\":{\"outlinewidth\":0,\"ticks\":\"\"}}}],\"scatterternary\":[{\"type\":\"scatterternary\",\"marker\":{\"colorbar\":{\"outlinewidth\":0,\"ticks\":\"\"}}}],\"scattercarpet\":[{\"type\":\"scattercarpet\",\"marker\":{\"colorbar\":{\"outlinewidth\":0,\"ticks\":\"\"}}}],\"carpet\":[{\"aaxis\":{\"endlinecolor\":\"#2a3f5f\",\"gridcolor\":\"white\",\"linecolor\":\"white\",\"minorgridcolor\":\"white\",\"startlinecolor\":\"#2a3f5f\"},\"baxis\":{\"endlinecolor\":\"#2a3f5f\",\"gridcolor\":\"white\",\"linecolor\":\"white\",\"minorgridcolor\":\"white\",\"startlinecolor\":\"#2a3f5f\"},\"type\":\"carpet\"}],\"table\":[{\"cells\":{\"fill\":{\"color\":\"#EBF0F8\"},\"line\":{\"color\":\"white\"}},\"header\":{\"fill\":{\"color\":\"#C8D4E3\"},\"line\":{\"color\":\"white\"}},\"type\":\"table\"}],\"barpolar\":[{\"marker\":{\"line\":{\"color\":\"#E5ECF6\",\"width\":0.5},\"pattern\":{\"fillmode\":\"overlay\",\"size\":10,\"solidity\":0.2}},\"type\":\"barpolar\"}],\"pie\":[{\"automargin\":true,\"type\":\"pie\"}]},\"layout\":{\"autotypenumbers\":\"strict\",\"colorway\":[\"#636efa\",\"#EF553B\",\"#00cc96\",\"#ab63fa\",\"#FFA15A\",\"#19d3f3\",\"#FF6692\",\"#B6E880\",\"#FF97FF\",\"#FECB52\"],\"font\":{\"color\":\"#2a3f5f\"},\"hovermode\":\"closest\",\"hoverlabel\":{\"align\":\"left\"},\"paper_bgcolor\":\"white\",\"plot_bgcolor\":\"#E5ECF6\",\"polar\":{\"bgcolor\":\"#E5ECF6\",\"angularaxis\":{\"gridcolor\":\"white\",\"linecolor\":\"white\",\"ticks\":\"\"},\"radialaxis\":{\"gridcolor\":\"white\",\"linecolor\":\"white\",\"ticks\":\"\"}},\"ternary\":{\"bgcolor\":\"#E5ECF6\",\"aaxis\":{\"gridcolor\":\"white\",\"linecolor\":\"white\",\"ticks\":\"\"},\"baxis\":{\"gridcolor\":\"white\",\"linecolor\":\"white\",\"ticks\":\"\"},\"caxis\":{\"gridcolor\":\"white\",\"linecolor\":\"white\",\"ticks\":\"\"}},\"coloraxis\":{\"colorbar\":{\"outlinewidth\":0,\"ticks\":\"\"}},\"colorscale\":{\"sequential\":[[0.0,\"#0d0887\"],[0.1111111111111111,\"#46039f\"],[0.2222222222222222,\"#7201a8\"],[0.3333333333333333,\"#9c179e\"],[0.4444444444444444,\"#bd3786\"],[0.5555555555555556,\"#d8576b\"],[0.6666666666666666,\"#ed7953\"],[0.7777777777777778,\"#fb9f3a\"],[0.8888888888888888,\"#fdca26\"],[1.0,\"#f0f921\"]],\"sequentialminus\":[[0.0,\"#0d0887\"],[0.1111111111111111,\"#46039f\"],[0.2222222222222222,\"#7201a8\"],[0.3333333333333333,\"#9c179e\"],[0.4444444444444444,\"#bd3786\"],[0.5555555555555556,\"#d8576b\"],[0.6666666666666666,\"#ed7953\"],[0.7777777777777778,\"#fb9f3a\"],[0.8888888888888888,\"#fdca26\"],[1.0,\"#f0f921\"]],\"diverging\":[[0,\"#8e0152\"],[0.1,\"#c51b7d\"],[0.2,\"#de77ae\"],[0.3,\"#f1b6da\"],[0.4,\"#fde0ef\"],[0.5,\"#f7f7f7\"],[0.6,\"#e6f5d0\"],[0.7,\"#b8e186\"],[0.8,\"#7fbc41\"],[0.9,\"#4d9221\"],[1,\"#276419\"]]},\"xaxis\":{\"gridcolor\":\"white\",\"linecolor\":\"white\",\"ticks\":\"\",\"title\":{\"standoff\":15},\"zerolinecolor\":\"white\",\"automargin\":true,\"zerolinewidth\":2},\"yaxis\":{\"gridcolor\":\"white\",\"linecolor\":\"white\",\"ticks\":\"\",\"title\":{\"standoff\":15},\"zerolinecolor\":\"white\",\"automargin\":true,\"zerolinewidth\":2},\"scene\":{\"xaxis\":{\"backgroundcolor\":\"#E5ECF6\",\"gridcolor\":\"white\",\"linecolor\":\"white\",\"showbackground\":true,\"ticks\":\"\",\"zerolinecolor\":\"white\",\"gridwidth\":2},\"yaxis\":{\"backgroundcolor\":\"#E5ECF6\",\"gridcolor\":\"white\",\"linecolor\":\"white\",\"showbackground\":true,\"ticks\":\"\",\"zerolinecolor\":\"white\",\"gridwidth\":2},\"zaxis\":{\"backgroundcolor\":\"#E5ECF6\",\"gridcolor\":\"white\",\"linecolor\":\"white\",\"showbackground\":true,\"ticks\":\"\",\"zerolinecolor\":\"white\",\"gridwidth\":2}},\"shapedefaults\":{\"line\":{\"color\":\"#2a3f5f\"}},\"annotationdefaults\":{\"arrowcolor\":\"#2a3f5f\",\"arrowhead\":0,\"arrowwidth\":1},\"geo\":{\"bgcolor\":\"white\",\"landcolor\":\"#E5ECF6\",\"subunitcolor\":\"white\",\"showland\":true,\"showlakes\":true,\"lakecolor\":\"white\"},\"title\":{\"x\":0.05},\"mapbox\":{\"style\":\"light\"}}},\"xaxis\":{\"anchor\":\"y\",\"domain\":[0.0,1.0],\"title\":{\"text\":\"count\"}},\"yaxis\":{\"anchor\":\"x\",\"domain\":[0.0,1.0],\"title\":{\"text\":\"Country\"}},\"legend\":{\"tracegroupgap\":0},\"margin\":{\"t\":60},\"barmode\":\"relative\"},                        {\"responsive\": true}                    ).then(function(){\n",
       "                            \n",
       "var gd = document.getElementById('b8f1b469-20cc-4b97-bcb6-a673e411570f');\n",
       "var x = new MutationObserver(function (mutations, observer) {{\n",
       "        var display = window.getComputedStyle(gd).display;\n",
       "        if (!display || display === 'none') {{\n",
       "            console.log([gd, 'removed!']);\n",
       "            Plotly.purge(gd);\n",
       "            observer.disconnect();\n",
       "        }}\n",
       "}});\n",
       "\n",
       "// Listen for the removal of the full notebook cells\n",
       "var notebookContainer = gd.closest('#notebook-container');\n",
       "if (notebookContainer) {{\n",
       "    x.observe(notebookContainer, {childList: true});\n",
       "}}\n",
       "\n",
       "// Listen for the clearing of the current output cell\n",
       "var outputEl = gd.closest('.output');\n",
       "if (outputEl) {{\n",
       "    x.observe(outputEl, {childList: true});\n",
       "}}\n",
       "\n",
       "                        })                };                });            </script>        </div>"
      ]
     },
     "metadata": {},
     "output_type": "display_data"
    }
   ],
   "source": [
    "# sns.countplot(df['Country'])\n",
    "px.bar(data_frame = df_country, y = 'Country', x = 'count')"
   ]
  },
  {
   "cell_type": "markdown",
   "id": "d58111af",
   "metadata": {},
   "source": [
    "## data investigation"
   ]
  },
  {
   "cell_type": "markdown",
   "id": "2c305d3d",
   "metadata": {},
   "source": [
    "## Data problems\n",
    "### 1. wrong dtypes in columns ['YearsCodePro', 'YearsCode', 'Age1stCode'] dute to string in cols\n",
    "### 2. cols to be splitted on ; ['DevType', 'LanguageHaveWorkedWith', 'LanguageWantToWorkWith',\n",
    "###       'DatabaseHaveWorkedWith', 'DatabaseWantToWorkWith'] it has other cols so we need to do it programatically\n",
    "### 3. fix EDlevel remove paranthesis and rename categories\n",
    "### 4. fix Learncode \n",
    "### 5. 'Accessibility' should we keep it or categorize it (have disability yes/no)\n",
    "### 6. US_state, UK_state should we keep them or add another category ex: none\n",
    "### 7. nulls\n",
    "___\n",
    "## irrelevant cols\n",
    "### 'ResponseId',  'MentalHealth', 'SurveyLength', 'SurveyEase', 'Age1stCode', 'Sexuality', 'Ethnicity'\n",
    "### 'Trans', 'Gender' , 'Currency', 'OrgSize','CompFreq', 'LanguageWantToWorkWith', 'DatabaseWantToWorkWith', --> need more exploration before remove"
   ]
  },
  {
   "cell_type": "markdown",
   "id": "fd7f2f3e",
   "metadata": {},
   "source": [
    "___"
   ]
  },
  {
   "cell_type": "markdown",
   "id": "9b844e5e",
   "metadata": {},
   "source": [
    "## preprocessing"
   ]
  },
  {
   "cell_type": "code",
   "execution_count": 9,
   "id": "f0d47606",
   "metadata": {},
   "outputs": [],
   "source": [
    "# check data types\n",
    "# select relavent features\n",
    "# preprocessing \n",
    "\n",
    "#handle wrong data types ---> 'YearsCode','YearsCodePro'\n",
    "\n",
    "#handle strings with ; to be list of strings"
   ]
  },
  {
   "cell_type": "markdown",
   "id": "66b44484",
   "metadata": {},
   "source": [
    "### 1- handle first problem wrong dtypes of columns"
   ]
  },
  {
   "cell_type": "code",
   "execution_count": 46,
   "id": "ad617d4d",
   "metadata": {},
   "outputs": [],
   "source": [
    "replacements = {'YearsCodePro': {'More than 50 years':51,'Less than 1 year':0},\\\n",
    "               'YearsCode' : {'More than 50 years':51,'Less than 1 year':0},\\\n",
    "               }"
   ]
  },
  {
   "cell_type": "code",
   "execution_count": 51,
   "id": "cfae29b2",
   "metadata": {},
   "outputs": [],
   "source": [
    "for col , replacement in replacements.items():\n",
    "    df[col] = df[col].replace(replacement).astype('float')"
   ]
  },
  {
   "cell_type": "code",
   "execution_count": 53,
   "id": "ee3519c2",
   "metadata": {},
   "outputs": [
    {
     "data": {
      "text/html": [
       "<div>\n",
       "<style scoped>\n",
       "    .dataframe tbody tr th:only-of-type {\n",
       "        vertical-align: middle;\n",
       "    }\n",
       "\n",
       "    .dataframe tbody tr th {\n",
       "        vertical-align: top;\n",
       "    }\n",
       "\n",
       "    .dataframe thead th {\n",
       "        text-align: right;\n",
       "    }\n",
       "</style>\n",
       "<table border=\"1\" class=\"dataframe\">\n",
       "  <thead>\n",
       "    <tr style=\"text-align: right;\">\n",
       "      <th></th>\n",
       "      <th>YearsCodePro</th>\n",
       "      <th>DevType</th>\n",
       "      <th>OrgSize</th>\n",
       "      <th>Currency</th>\n",
       "      <th>CompTotal</th>\n",
       "      <th>CompFreq</th>\n",
       "      <th>LanguageHaveWorkedWith</th>\n",
       "      <th>LanguageWantToWorkWith</th>\n",
       "      <th>DatabaseHaveWorkedWith</th>\n",
       "      <th>DatabaseWantToWorkWith</th>\n",
       "      <th>...</th>\n",
       "      <th>Age</th>\n",
       "      <th>Gender</th>\n",
       "      <th>Trans</th>\n",
       "      <th>Sexuality</th>\n",
       "      <th>Ethnicity</th>\n",
       "      <th>Accessibility</th>\n",
       "      <th>MentalHealth</th>\n",
       "      <th>SurveyLength</th>\n",
       "      <th>SurveyEase</th>\n",
       "      <th>ConvertedCompYearly</th>\n",
       "    </tr>\n",
       "  </thead>\n",
       "  <tbody>\n",
       "    <tr>\n",
       "      <th>0</th>\n",
       "      <td>NaN</td>\n",
       "      <td>Developer, mobile</td>\n",
       "      <td>20 to 99 employees</td>\n",
       "      <td>EUR European Euro</td>\n",
       "      <td>4800.0</td>\n",
       "      <td>Monthly</td>\n",
       "      <td>C++;HTML/CSS;JavaScript;Objective-C;PHP;Swift</td>\n",
       "      <td>Swift</td>\n",
       "      <td>PostgreSQL;SQLite</td>\n",
       "      <td>SQLite</td>\n",
       "      <td>...</td>\n",
       "      <td>25-34 years old</td>\n",
       "      <td>Man</td>\n",
       "      <td>No</td>\n",
       "      <td>Straight / Heterosexual</td>\n",
       "      <td>White or of European descent</td>\n",
       "      <td>None of the above</td>\n",
       "      <td>None of the above</td>\n",
       "      <td>Appropriate in length</td>\n",
       "      <td>Easy</td>\n",
       "      <td>62268.0</td>\n",
       "    </tr>\n",
       "    <tr>\n",
       "      <th>1</th>\n",
       "      <td>NaN</td>\n",
       "      <td>NaN</td>\n",
       "      <td>NaN</td>\n",
       "      <td>NaN</td>\n",
       "      <td>NaN</td>\n",
       "      <td>NaN</td>\n",
       "      <td>JavaScript;Python</td>\n",
       "      <td>NaN</td>\n",
       "      <td>PostgreSQL</td>\n",
       "      <td>NaN</td>\n",
       "      <td>...</td>\n",
       "      <td>18-24 years old</td>\n",
       "      <td>Man</td>\n",
       "      <td>No</td>\n",
       "      <td>Straight / Heterosexual</td>\n",
       "      <td>White or of European descent</td>\n",
       "      <td>None of the above</td>\n",
       "      <td>None of the above</td>\n",
       "      <td>Appropriate in length</td>\n",
       "      <td>Easy</td>\n",
       "      <td>NaN</td>\n",
       "    </tr>\n",
       "    <tr>\n",
       "      <th>2</th>\n",
       "      <td>NaN</td>\n",
       "      <td>NaN</td>\n",
       "      <td>NaN</td>\n",
       "      <td>NaN</td>\n",
       "      <td>NaN</td>\n",
       "      <td>NaN</td>\n",
       "      <td>Assembly;C;Python;R;Rust</td>\n",
       "      <td>Julia;Python;Rust</td>\n",
       "      <td>SQLite</td>\n",
       "      <td>SQLite</td>\n",
       "      <td>...</td>\n",
       "      <td>18-24 years old</td>\n",
       "      <td>Man</td>\n",
       "      <td>No</td>\n",
       "      <td>Prefer not to say</td>\n",
       "      <td>Prefer not to say</td>\n",
       "      <td>None of the above</td>\n",
       "      <td>None of the above</td>\n",
       "      <td>Appropriate in length</td>\n",
       "      <td>Easy</td>\n",
       "      <td>NaN</td>\n",
       "    </tr>\n",
       "    <tr>\n",
       "      <th>3</th>\n",
       "      <td>NaN</td>\n",
       "      <td>Developer, front-end</td>\n",
       "      <td>100 to 499 employees</td>\n",
       "      <td>EUR European Euro</td>\n",
       "      <td>NaN</td>\n",
       "      <td>Monthly</td>\n",
       "      <td>JavaScript;TypeScript</td>\n",
       "      <td>JavaScript;TypeScript</td>\n",
       "      <td>NaN</td>\n",
       "      <td>NaN</td>\n",
       "      <td>...</td>\n",
       "      <td>35-44 years old</td>\n",
       "      <td>Man</td>\n",
       "      <td>No</td>\n",
       "      <td>Straight / Heterosexual</td>\n",
       "      <td>White or of European descent</td>\n",
       "      <td>I am deaf / hard of hearing</td>\n",
       "      <td>NaN</td>\n",
       "      <td>Appropriate in length</td>\n",
       "      <td>Neither easy nor difficult</td>\n",
       "      <td>NaN</td>\n",
       "    </tr>\n",
       "    <tr>\n",
       "      <th>4</th>\n",
       "      <td>10.0</td>\n",
       "      <td>Developer, desktop or enterprise applications;...</td>\n",
       "      <td>Just me - I am a freelancer, sole proprietor, ...</td>\n",
       "      <td>GBP\\tPound sterling</td>\n",
       "      <td>NaN</td>\n",
       "      <td>NaN</td>\n",
       "      <td>Bash/Shell;HTML/CSS;Python;SQL</td>\n",
       "      <td>Bash/Shell;HTML/CSS;Python;SQL</td>\n",
       "      <td>Elasticsearch;PostgreSQL;Redis</td>\n",
       "      <td>Cassandra;Elasticsearch;PostgreSQL;Redis</td>\n",
       "      <td>...</td>\n",
       "      <td>25-34 years old</td>\n",
       "      <td>Man</td>\n",
       "      <td>No</td>\n",
       "      <td>NaN</td>\n",
       "      <td>White or of European descent</td>\n",
       "      <td>None of the above</td>\n",
       "      <td>NaN</td>\n",
       "      <td>Appropriate in length</td>\n",
       "      <td>Easy</td>\n",
       "      <td>NaN</td>\n",
       "    </tr>\n",
       "  </tbody>\n",
       "</table>\n",
       "<p>5 rows × 38 columns</p>\n",
       "</div>"
      ],
      "text/plain": [
       "   YearsCodePro                                            DevType  \\\n",
       "0           NaN                                  Developer, mobile   \n",
       "1           NaN                                                NaN   \n",
       "2           NaN                                                NaN   \n",
       "3           NaN                               Developer, front-end   \n",
       "4          10.0  Developer, desktop or enterprise applications;...   \n",
       "\n",
       "                                             OrgSize             Currency  \\\n",
       "0                                 20 to 99 employees    EUR European Euro   \n",
       "1                                                NaN                  NaN   \n",
       "2                                                NaN                  NaN   \n",
       "3                               100 to 499 employees    EUR European Euro   \n",
       "4  Just me - I am a freelancer, sole proprietor, ...  GBP\\tPound sterling   \n",
       "\n",
       "   CompTotal CompFreq                         LanguageHaveWorkedWith  \\\n",
       "0     4800.0  Monthly  C++;HTML/CSS;JavaScript;Objective-C;PHP;Swift   \n",
       "1        NaN      NaN                              JavaScript;Python   \n",
       "2        NaN      NaN                       Assembly;C;Python;R;Rust   \n",
       "3        NaN  Monthly                          JavaScript;TypeScript   \n",
       "4        NaN      NaN                 Bash/Shell;HTML/CSS;Python;SQL   \n",
       "\n",
       "           LanguageWantToWorkWith          DatabaseHaveWorkedWith  \\\n",
       "0                           Swift               PostgreSQL;SQLite   \n",
       "1                             NaN                      PostgreSQL   \n",
       "2               Julia;Python;Rust                          SQLite   \n",
       "3           JavaScript;TypeScript                             NaN   \n",
       "4  Bash/Shell;HTML/CSS;Python;SQL  Elasticsearch;PostgreSQL;Redis   \n",
       "\n",
       "                     DatabaseWantToWorkWith  ...              Age Gender  \\\n",
       "0                                    SQLite  ...  25-34 years old    Man   \n",
       "1                                       NaN  ...  18-24 years old    Man   \n",
       "2                                    SQLite  ...  18-24 years old    Man   \n",
       "3                                       NaN  ...  35-44 years old    Man   \n",
       "4  Cassandra;Elasticsearch;PostgreSQL;Redis  ...  25-34 years old    Man   \n",
       "\n",
       "  Trans                Sexuality                     Ethnicity  \\\n",
       "0    No  Straight / Heterosexual  White or of European descent   \n",
       "1    No  Straight / Heterosexual  White or of European descent   \n",
       "2    No        Prefer not to say             Prefer not to say   \n",
       "3    No  Straight / Heterosexual  White or of European descent   \n",
       "4    No                      NaN  White or of European descent   \n",
       "\n",
       "                 Accessibility       MentalHealth           SurveyLength  \\\n",
       "0            None of the above  None of the above  Appropriate in length   \n",
       "1            None of the above  None of the above  Appropriate in length   \n",
       "2            None of the above  None of the above  Appropriate in length   \n",
       "3  I am deaf / hard of hearing                NaN  Appropriate in length   \n",
       "4            None of the above                NaN  Appropriate in length   \n",
       "\n",
       "                   SurveyEase ConvertedCompYearly  \n",
       "0                        Easy             62268.0  \n",
       "1                        Easy                 NaN  \n",
       "2                        Easy                 NaN  \n",
       "3  Neither easy nor difficult                 NaN  \n",
       "4                        Easy                 NaN  \n",
       "\n",
       "[5 rows x 38 columns]"
      ]
     },
     "execution_count": 53,
     "metadata": {},
     "output_type": "execute_result"
    }
   ],
   "source": [
    "df.head().iloc[:,10:]"
   ]
  },
  {
   "cell_type": "markdown",
   "id": "99d76866",
   "metadata": {},
   "source": [
    "### 2. split data separated by ; as list"
   ]
  },
  {
   "cell_type": "code",
   "execution_count": 99,
   "id": "6752de42",
   "metadata": {},
   "outputs": [],
   "source": [
    "def split_data(df_col, delimeter = ';'):\n",
    "    '''\n",
    "    split the data in data frame seires (column) on specific deleimeter and store them in list\n",
    "    \n",
    "    params:\n",
    "        df_col: (pd.series) series contains data to be splitted\n",
    "        delimeter: default ';' to split data on\n",
    "    return:\n",
    "        df_series: (pd.series) splitted series and the dtype is list\n",
    "    '''\n",
    "    # check if the data is splitable (contains the delimeter)\n",
    "    def is_splitable(pd_series, delimeter = ';'):\n",
    "        return pd_series.str.contains(delimeter).any()\n",
    "    \n",
    "    # spliting function \n",
    "    def split(pd_series , delimeter = ';'):\n",
    "        return pd_series.apply(lambda x: x.split(delimeter) if type(x) != float else [])\n",
    "    \n",
    "    # performing split\n",
    "    if is_splitable(df_col, delimeter):\n",
    "        return split(df_col, delimeter)\n",
    "    else:\n",
    "        return df_col\n",
    "        "
   ]
  },
  {
   "cell_type": "code",
   "execution_count": 105,
   "id": "6ac6d013",
   "metadata": {},
   "outputs": [],
   "source": [
    "for col in df.select_dtypes(include = 'object').columns:\n",
    "    df[col] = split_data(df[col])\n",
    "    "
   ]
  },
  {
   "cell_type": "code",
   "execution_count": 106,
   "id": "a000551c",
   "metadata": {},
   "outputs": [
    {
     "data": {
      "text/html": [
       "<div>\n",
       "<style scoped>\n",
       "    .dataframe tbody tr th:only-of-type {\n",
       "        vertical-align: middle;\n",
       "    }\n",
       "\n",
       "    .dataframe tbody tr th {\n",
       "        vertical-align: top;\n",
       "    }\n",
       "\n",
       "    .dataframe thead th {\n",
       "        text-align: right;\n",
       "    }\n",
       "</style>\n",
       "<table border=\"1\" class=\"dataframe\">\n",
       "  <thead>\n",
       "    <tr style=\"text-align: right;\">\n",
       "      <th></th>\n",
       "      <th>YearsCodePro</th>\n",
       "      <th>DevType</th>\n",
       "      <th>OrgSize</th>\n",
       "      <th>Currency</th>\n",
       "      <th>CompTotal</th>\n",
       "      <th>CompFreq</th>\n",
       "      <th>LanguageHaveWorkedWith</th>\n",
       "      <th>LanguageWantToWorkWith</th>\n",
       "      <th>DatabaseHaveWorkedWith</th>\n",
       "      <th>DatabaseWantToWorkWith</th>\n",
       "      <th>...</th>\n",
       "      <th>Age</th>\n",
       "      <th>Gender</th>\n",
       "      <th>Trans</th>\n",
       "      <th>Sexuality</th>\n",
       "      <th>Ethnicity</th>\n",
       "      <th>Accessibility</th>\n",
       "      <th>MentalHealth</th>\n",
       "      <th>SurveyLength</th>\n",
       "      <th>SurveyEase</th>\n",
       "      <th>ConvertedCompYearly</th>\n",
       "    </tr>\n",
       "  </thead>\n",
       "  <tbody>\n",
       "    <tr>\n",
       "      <th>0</th>\n",
       "      <td>NaN</td>\n",
       "      <td>[Developer, mobile]</td>\n",
       "      <td>20 to 99 employees</td>\n",
       "      <td>EUR European Euro</td>\n",
       "      <td>4800.0</td>\n",
       "      <td>Monthly</td>\n",
       "      <td>[C++, HTML/CSS, JavaScript, Objective-C, PHP, ...</td>\n",
       "      <td>[Swift]</td>\n",
       "      <td>[PostgreSQL, SQLite]</td>\n",
       "      <td>[SQLite]</td>\n",
       "      <td>...</td>\n",
       "      <td>25-34 years old</td>\n",
       "      <td>[Man]</td>\n",
       "      <td>No</td>\n",
       "      <td>[Straight / Heterosexual]</td>\n",
       "      <td>[White or of European descent]</td>\n",
       "      <td>[None of the above]</td>\n",
       "      <td>[None of the above]</td>\n",
       "      <td>Appropriate in length</td>\n",
       "      <td>Easy</td>\n",
       "      <td>62268.0</td>\n",
       "    </tr>\n",
       "    <tr>\n",
       "      <th>1</th>\n",
       "      <td>NaN</td>\n",
       "      <td>[]</td>\n",
       "      <td>NaN</td>\n",
       "      <td>NaN</td>\n",
       "      <td>NaN</td>\n",
       "      <td>NaN</td>\n",
       "      <td>[JavaScript, Python]</td>\n",
       "      <td>[]</td>\n",
       "      <td>[PostgreSQL]</td>\n",
       "      <td>[]</td>\n",
       "      <td>...</td>\n",
       "      <td>18-24 years old</td>\n",
       "      <td>[Man]</td>\n",
       "      <td>No</td>\n",
       "      <td>[Straight / Heterosexual]</td>\n",
       "      <td>[White or of European descent]</td>\n",
       "      <td>[None of the above]</td>\n",
       "      <td>[None of the above]</td>\n",
       "      <td>Appropriate in length</td>\n",
       "      <td>Easy</td>\n",
       "      <td>NaN</td>\n",
       "    </tr>\n",
       "    <tr>\n",
       "      <th>2</th>\n",
       "      <td>NaN</td>\n",
       "      <td>[]</td>\n",
       "      <td>NaN</td>\n",
       "      <td>NaN</td>\n",
       "      <td>NaN</td>\n",
       "      <td>NaN</td>\n",
       "      <td>[Assembly, C, Python, R, Rust]</td>\n",
       "      <td>[Julia, Python, Rust]</td>\n",
       "      <td>[SQLite]</td>\n",
       "      <td>[SQLite]</td>\n",
       "      <td>...</td>\n",
       "      <td>18-24 years old</td>\n",
       "      <td>[Man]</td>\n",
       "      <td>No</td>\n",
       "      <td>[Prefer not to say]</td>\n",
       "      <td>[Prefer not to say]</td>\n",
       "      <td>[None of the above]</td>\n",
       "      <td>[None of the above]</td>\n",
       "      <td>Appropriate in length</td>\n",
       "      <td>Easy</td>\n",
       "      <td>NaN</td>\n",
       "    </tr>\n",
       "    <tr>\n",
       "      <th>3</th>\n",
       "      <td>NaN</td>\n",
       "      <td>[Developer, front-end]</td>\n",
       "      <td>100 to 499 employees</td>\n",
       "      <td>EUR European Euro</td>\n",
       "      <td>NaN</td>\n",
       "      <td>Monthly</td>\n",
       "      <td>[JavaScript, TypeScript]</td>\n",
       "      <td>[JavaScript, TypeScript]</td>\n",
       "      <td>[]</td>\n",
       "      <td>[]</td>\n",
       "      <td>...</td>\n",
       "      <td>35-44 years old</td>\n",
       "      <td>[Man]</td>\n",
       "      <td>No</td>\n",
       "      <td>[Straight / Heterosexual]</td>\n",
       "      <td>[White or of European descent]</td>\n",
       "      <td>[I am deaf / hard of hearing]</td>\n",
       "      <td>[]</td>\n",
       "      <td>Appropriate in length</td>\n",
       "      <td>Neither easy nor difficult</td>\n",
       "      <td>NaN</td>\n",
       "    </tr>\n",
       "    <tr>\n",
       "      <th>4</th>\n",
       "      <td>10</td>\n",
       "      <td>[Developer, desktop or enterprise applications...</td>\n",
       "      <td>Just me - I am a freelancer, sole proprietor, ...</td>\n",
       "      <td>GBP\\tPound sterling</td>\n",
       "      <td>NaN</td>\n",
       "      <td>NaN</td>\n",
       "      <td>[Bash/Shell, HTML/CSS, Python, SQL]</td>\n",
       "      <td>[Bash/Shell, HTML/CSS, Python, SQL]</td>\n",
       "      <td>[Elasticsearch, PostgreSQL, Redis]</td>\n",
       "      <td>[Cassandra, Elasticsearch, PostgreSQL, Redis]</td>\n",
       "      <td>...</td>\n",
       "      <td>25-34 years old</td>\n",
       "      <td>[Man]</td>\n",
       "      <td>No</td>\n",
       "      <td>[]</td>\n",
       "      <td>[White or of European descent]</td>\n",
       "      <td>[None of the above]</td>\n",
       "      <td>[]</td>\n",
       "      <td>Appropriate in length</td>\n",
       "      <td>Easy</td>\n",
       "      <td>NaN</td>\n",
       "    </tr>\n",
       "  </tbody>\n",
       "</table>\n",
       "<p>5 rows × 38 columns</p>\n",
       "</div>"
      ],
      "text/plain": [
       "  YearsCodePro                                            DevType  \\\n",
       "0          NaN                                [Developer, mobile]   \n",
       "1          NaN                                                 []   \n",
       "2          NaN                                                 []   \n",
       "3          NaN                             [Developer, front-end]   \n",
       "4           10  [Developer, desktop or enterprise applications...   \n",
       "\n",
       "                                             OrgSize             Currency  \\\n",
       "0                                 20 to 99 employees    EUR European Euro   \n",
       "1                                                NaN                  NaN   \n",
       "2                                                NaN                  NaN   \n",
       "3                               100 to 499 employees    EUR European Euro   \n",
       "4  Just me - I am a freelancer, sole proprietor, ...  GBP\\tPound sterling   \n",
       "\n",
       "   CompTotal CompFreq                             LanguageHaveWorkedWith  \\\n",
       "0     4800.0  Monthly  [C++, HTML/CSS, JavaScript, Objective-C, PHP, ...   \n",
       "1        NaN      NaN                               [JavaScript, Python]   \n",
       "2        NaN      NaN                     [Assembly, C, Python, R, Rust]   \n",
       "3        NaN  Monthly                           [JavaScript, TypeScript]   \n",
       "4        NaN      NaN                [Bash/Shell, HTML/CSS, Python, SQL]   \n",
       "\n",
       "                LanguageWantToWorkWith              DatabaseHaveWorkedWith  \\\n",
       "0                              [Swift]                [PostgreSQL, SQLite]   \n",
       "1                                   []                        [PostgreSQL]   \n",
       "2                [Julia, Python, Rust]                            [SQLite]   \n",
       "3             [JavaScript, TypeScript]                                  []   \n",
       "4  [Bash/Shell, HTML/CSS, Python, SQL]  [Elasticsearch, PostgreSQL, Redis]   \n",
       "\n",
       "                          DatabaseWantToWorkWith  ...              Age Gender  \\\n",
       "0                                       [SQLite]  ...  25-34 years old  [Man]   \n",
       "1                                             []  ...  18-24 years old  [Man]   \n",
       "2                                       [SQLite]  ...  18-24 years old  [Man]   \n",
       "3                                             []  ...  35-44 years old  [Man]   \n",
       "4  [Cassandra, Elasticsearch, PostgreSQL, Redis]  ...  25-34 years old  [Man]   \n",
       "\n",
       "  Trans                  Sexuality                       Ethnicity  \\\n",
       "0    No  [Straight / Heterosexual]  [White or of European descent]   \n",
       "1    No  [Straight / Heterosexual]  [White or of European descent]   \n",
       "2    No        [Prefer not to say]             [Prefer not to say]   \n",
       "3    No  [Straight / Heterosexual]  [White or of European descent]   \n",
       "4    No                         []  [White or of European descent]   \n",
       "\n",
       "                   Accessibility         MentalHealth           SurveyLength  \\\n",
       "0            [None of the above]  [None of the above]  Appropriate in length   \n",
       "1            [None of the above]  [None of the above]  Appropriate in length   \n",
       "2            [None of the above]  [None of the above]  Appropriate in length   \n",
       "3  [I am deaf / hard of hearing]                   []  Appropriate in length   \n",
       "4            [None of the above]                   []  Appropriate in length   \n",
       "\n",
       "                   SurveyEase ConvertedCompYearly  \n",
       "0                        Easy             62268.0  \n",
       "1                        Easy                 NaN  \n",
       "2                        Easy                 NaN  \n",
       "3  Neither easy nor difficult                 NaN  \n",
       "4                        Easy                 NaN  \n",
       "\n",
       "[5 rows x 38 columns]"
      ]
     },
     "execution_count": 106,
     "metadata": {},
     "output_type": "execute_result"
    }
   ],
   "source": [
    "df.head().iloc[:,10:]"
   ]
  },
  {
   "cell_type": "markdown",
   "id": "db2e6a54",
   "metadata": {},
   "source": [
    "### 3- handle edlevel column"
   ]
  },
  {
   "cell_type": "code",
   "execution_count": 108,
   "id": "87150db1",
   "metadata": {},
   "outputs": [
    {
     "data": {
      "text/plain": [
       "array(['Secondary school (e.g. American high school, German Realschule or Gymnasium, etc.)',\n",
       "       'Bachelor’s degree (B.A., B.S., B.Eng., etc.)',\n",
       "       'Master’s degree (M.A., M.S., M.Eng., MBA, etc.)',\n",
       "       'Other doctoral degree (Ph.D., Ed.D., etc.)',\n",
       "       'Some college/university study without earning a degree',\n",
       "       'Something else', 'Professional degree (JD, MD, etc.)',\n",
       "       'Primary/elementary school', 'Associate degree (A.A., A.S., etc.)',\n",
       "       nan], dtype=object)"
      ]
     },
     "execution_count": 108,
     "metadata": {},
     "output_type": "execute_result"
    }
   ],
   "source": [
    "df['EdLevel'].unique()"
   ]
  },
  {
   "cell_type": "code",
   "execution_count": 113,
   "id": "55cb23ba",
   "metadata": {},
   "outputs": [],
   "source": [
    "edu_dict = {'Bachelor’s degree (B.A., B.S., B.Eng., etc.)': 'Bachelor-degree',\n",
    "            'Master’s degree (M.A., M.S., M.Eng., MBA, etc.)':'Master-degree',\n",
    "            'Secondary school (e.g. American high school, German Realschule or Gymnasium, etc.)':'secondary-school',\n",
    "            'Other doctoral degree (Ph.D., Ed.D., etc.)':'doctoral-degree',\n",
    "            'Primary/elementary school':'Primary/elementary-school',\n",
    "            'Associate degree (A.A., A.S., etc.)':'Associate-degree',\n",
    "            'Professional degree (JD, MD, etc.)':'Professional-degree',\n",
    "            'Something else':'Something-else',\n",
    "            'Some college/university study without earning a degree':'college-study-without-earning-degree'\n",
    "           }"
   ]
  },
  {
   "cell_type": "code",
   "execution_count": 115,
   "id": "67b1857d",
   "metadata": {},
   "outputs": [],
   "source": [
    "df['EdLevel'] = df['EdLevel'].replace(edu_dict)"
   ]
  },
  {
   "cell_type": "markdown",
   "id": "2b56d482",
   "metadata": {},
   "source": [
    "###  save file as pickle"
   ]
  },
  {
   "cell_type": "code",
   "execution_count": 117,
   "id": "34c5d5ba",
   "metadata": {},
   "outputs": [],
   "source": [
    "export_path = '../data/processed/1_preprocessed.pkl'\n",
    "df.to_pickle(export_path)"
   ]
  },
  {
   "cell_type": "code",
   "execution_count": null,
   "id": "faedf07b",
   "metadata": {},
   "outputs": [],
   "source": []
  },
  {
   "cell_type": "markdown",
   "id": "6b07be4e",
   "metadata": {},
   "source": [
    "___"
   ]
  },
  {
   "cell_type": "code",
   "execution_count": 45,
   "id": "0baee6d9",
   "metadata": {},
   "outputs": [],
   "source": [
    "# # cols that has 5% or more nans \n",
    "# null_cols = [c for c in df.isnull().sum().index if df.isnull().sum()[c]/df.shape[0] > .05  ]\n",
    "# null_cols"
   ]
  },
  {
   "cell_type": "code",
   "execution_count": 22,
   "id": "f442da90",
   "metadata": {},
   "outputs": [],
   "source": [
    "# #filling nulls \n",
    "# for col in test.columns:\n",
    "#     if test[col].dtype == 'object':\n",
    "#         test[col].fillna(test[col].mode().iloc[0], inplace = True)\n",
    "#     else:\n",
    "#         test[col].fillna(test[col].median(), inplace = True)"
   ]
  },
  {
   "cell_type": "code",
   "execution_count": 25,
   "id": "e417d0d5",
   "metadata": {},
   "outputs": [
    {
     "name": "stdout",
     "output_type": "stream",
     "text": [
      "YearsCodePro\n",
      "[nan, '10', '4', '5', '6', '2', '30', '9', '18', '12', '21', '1', '16', 'Less than 1 year', '15', '3', '35', '7', '8', '17', '14', '26', '25', '20', '50', '34', '11', '24', '22', '13', '31', '23', '39', '41', '27', '28', '19', '33', 'More than 50 years', '37', '29', '32', '43', '40', '38', '45', '42', '46', '36', '44', '47', '48', '49']\n",
      "--------------------------\n",
      "\n",
      "YearsCode\n",
      "[nan, '7', '17', '3', '4', '6', '16', '12', '15', '10', '40', '9', '26', '14', '39', '20', '8', '19', '5', 'Less than 1 year', '22', '2', '1', '34', '21', '13', '25', '24', '30', '31', '18', '38', 'More than 50 years', '27', '41', '42', '35', '23', '28', '11', '37', '44', '43', '36', '33', '45', '29', '50', '46', '32', '47', '49', '48']\n",
      "--------------------------\n",
      "\n",
      "Age1stCode\n",
      "['18 - 24 years', '11 - 17 years', '5 - 10 years', '25 - 34 years', '35 - 44 years', 'Younger than 5 years', '45 - 54 years', '55 - 64 years', nan, 'Older than 64 years']\n",
      "--------------------------\n",
      "\n"
     ]
    }
   ],
   "source": [
    "questionable_cols = ['YearsCodePro', 'YearsCode', 'Age1stCode']\n",
    "\n",
    "for col in questionable_cols: \n",
    "    print(col)\n",
    "    print(df[col].unique().tolist())\n",
    "    print('--------------------------')\n",
    "    print()"
   ]
  },
  {
   "cell_type": "code",
   "execution_count": null,
   "id": "ba477493",
   "metadata": {},
   "outputs": [],
   "source": [
    "df.replace()"
   ]
  },
  {
   "cell_type": "code",
   "execution_count": null,
   "id": "62bfb5ef",
   "metadata": {},
   "outputs": [],
   "source": [
    "###########################3relevant features:\n",
    "# ResponseId                                                                 \n",
    "# MainBranch                                        \n",
    "# Employment                                                     \n",
    "# Country                                                                   \n",
    "# EdLevel                              \n",
    "# Age1stCode                                                          \n",
    "# LearnCode                                                                  \n",
    "# YearsCode                                                                      \n",
    "# YearsCodePro                                                                    \n",
    "# DevType                         \n",
    "# Currency                                                    \n",
    "# CompTotal                                                               \n",
    "# CompFreq                                                                   \n",
    "# LanguageHaveWorkedWith                                                \n",
    "# LanguageWantToWorkWith                                                   \n",
    "# DatabaseHaveWorkedWith                               \n",
    "# DatabaseWantToWorkWith                                                     \n",
    "# PlatformHaveWorkedWith                                                        \n",
    "# PlatformWantToWorkWith                                                       \n",
    "# WebframeHaveWorkedWith                                                        \n",
    "# WebframeWantToWorkWith                                                       \n",
    "# MiscTechHaveWorkedWith                                                        \n",
    "# MiscTechWantToWorkWith                                                       \n",
    "# ToolsTechHaveWorkedWith                                                       \n",
    "# ToolsTechWantToWorkWith                                                       \n",
    "# NEWCollabToolsHaveWorkedWith             \n",
    "# NEWCollabToolsWantToWorkWith                       \n",
    "# OpSys                                                                     \n",
    "\n",
    "# NEWStuck                        \n",
    "# NEWSOSites                                          \n",
    "\n",
    "# SOVisitFreq                                                 \n",
    "# SOAccount                                                                     \n",
    "# SOPartFreq                                    \n",
    "# SOComm                                                             \n",
    "\n",
    "# Age                                                              \n",
    "# Gender                                                                       \n",
    "\n",
    "                                                                \n"
   ]
  }
 ],
 "metadata": {
  "kernelspec": {
   "display_name": "Python 3 (ipykernel)",
   "language": "python",
   "name": "python3"
  },
  "language_info": {
   "codemirror_mode": {
    "name": "ipython",
    "version": 3
   },
   "file_extension": ".py",
   "mimetype": "text/x-python",
   "name": "python",
   "nbconvert_exporter": "python",
   "pygments_lexer": "ipython3",
   "version": "3.9.7"
  }
 },
 "nbformat": 4,
 "nbformat_minor": 5
}
