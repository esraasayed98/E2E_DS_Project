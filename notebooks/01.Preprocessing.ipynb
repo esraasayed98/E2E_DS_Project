{
 "cells": [
  {
   "cell_type": "code",
   "execution_count": 1,
   "id": "72575632-aeea-41c3-a74b-f38d47a71e4a",
   "metadata": {},
   "outputs": [],
   "source": [
    "#constants, paths\n",
    "DATA_PATH='../data/raw/survey_results_public.csv'\n",
    "EXPORT_PATH='../data/processed/1_preprocessed_df.pkl'\n",
    "\n",
    "REPLACE_DICT = {\n",
    "    'YearsCodePro': {'Less than 1 year': 0, 'More than 50 years': 51}, \n",
    "    'YearsCode':    {'Less than 1 year': 0, 'More than 50 years': 51}}"
   ]
  },
  {
   "cell_type": "code",
   "execution_count": 2,
   "id": "45ae44f6-f4e3-4e39-bd0d-9e629f0190ef",
   "metadata": {},
   "outputs": [],
   "source": [
    "# Load packages\n",
    "import numpy as np\n",
    "import pandas as pd"
   ]
  },
  {
   "cell_type": "code",
   "execution_count": 3,
   "id": "b0dba642-c8de-4479-a18d-886b6dc26d9a",
   "metadata": {},
   "outputs": [],
   "source": [
    "#read data\n",
    "raw_df = pd.read_csv(DATA_PATH)"
   ]
  },
  {
   "cell_type": "markdown",
   "id": "bee3ecac",
   "metadata": {},
   "source": [
    "----------------"
   ]
  },
  {
   "cell_type": "markdown",
   "id": "c78072a6-1b34-479e-ae58-07cb837c617c",
   "metadata": {},
   "source": [
    "# Functions"
   ]
  },
  {
   "cell_type": "code",
   "execution_count": 4,
   "id": "c36057fa-e10e-48f9-ab23-3822703393d6",
   "metadata": {},
   "outputs": [],
   "source": [
    "def Split_answer(column, delimiter=';'):\n",
    "    \"\"\" \n",
    "    Split multiple answers in a single string \n",
    "    to a list of single strings each represnting a single answers \n",
    "\n",
    "    Parameters:\n",
    "    \n",
    "    * column : column name that has string series with answers \n",
    "    * delimiter (string): Another decimal integer \n",
    "                          Defaults to \";\"\n",
    "\n",
    "    \"\"\"\n",
    "    # 1. check if the column contains delimeters\n",
    "    if (df[column].str.contains(';').any()):\n",
    "        #2. split  if it contain multiple answers\n",
    "        df[column]=df[column].str.split(';')\n",
    "        \n",
    "        #Handle null values: Replace NAs with empty lists \n",
    "        nulls=df[column].isnull()\n",
    "        df[column].loc[nulls]=df[column].loc[nulls].apply(lambda x:[])\n",
    "        \n",
    "        print(df[column]) \n",
    "       "
   ]
  },
  {
   "cell_type": "markdown",
   "id": "60b9dc62",
   "metadata": {},
   "source": [
    "# Preprocess"
   ]
  },
  {
   "cell_type": "code",
   "execution_count": 5,
   "id": "12521a31",
   "metadata": {},
   "outputs": [],
   "source": [
    "df=raw_df.copy()"
   ]
  },
  {
   "cell_type": "markdown",
   "id": "9c8581bb-a705-44ae-9e1a-48a6c76ba51e",
   "metadata": {},
   "source": [
    "## 1. Handle  irrelavant data types"
   ]
  },
  {
   "cell_type": "code",
   "execution_count": 6,
   "id": "5fd30c3c-bff4-4fe6-b6e7-2402d7c83da9",
   "metadata": {},
   "outputs": [
    {
     "name": "stdout",
     "output_type": "stream",
     "text": [
      "-----------------------------------------------------------------------\n",
      "YearsCodePro \n",
      "\n",
      "[nan 10.  4.  5.  6.  2. 30.  9. 18. 12. 21.  1. 16.  0. 15.  3. 35.  7.\n",
      "  8. 17. 14. 26. 25. 20. 50. 34. 11. 24. 22. 13. 31. 23. 39. 41. 27. 28.\n",
      " 19. 33. 51. 37. 29. 32. 43. 40. 38. 45. 42. 46. 36. 44. 47. 48. 49.]\n",
      "-----------------------------------------------------------------------\n",
      "YearsCode \n",
      "\n",
      "[nan  7. 17.  3.  4.  6. 16. 12. 15. 10. 40.  9. 26. 14. 39. 20.  8. 19.\n",
      "  5.  0. 22.  2.  1. 34. 21. 13. 25. 24. 30. 31. 18. 38. 51. 27. 41. 42.\n",
      " 35. 23. 28. 11. 37. 44. 43. 36. 33. 45. 29. 50. 46. 32. 47. 49. 48.]\n"
     ]
    }
   ],
   "source": [
    "for column, replacment in REPLACE_DICT.items():\n",
    "    df[column]= df[column].replace(replacment).astype(np.float32)\n",
    "    print('-----------------------------------------------------------------------')\n",
    "    print(column,'\\n')\n",
    "    print(df[column].unique())"
   ]
  },
  {
   "cell_type": "markdown",
   "id": "4e35a2db-296a-46af-81f1-7df05eb0c12d",
   "metadata": {},
   "source": [
    "## 2. Split Answers"
   ]
  },
  {
   "cell_type": "code",
   "execution_count": 7,
   "id": "a4c1e036-b7f7-441a-8e33-e8e7eb418e98",
   "metadata": {
    "scrolled": true
   },
   "outputs": [
    {
     "name": "stderr",
     "output_type": "stream",
     "text": [
      "C:\\Users\\esraa\\anaconda3\\lib\\site-packages\\pandas\\core\\indexing.py:1732: SettingWithCopyWarning: \n",
      "A value is trying to be set on a copy of a slice from a DataFrame\n",
      "\n",
      "See the caveats in the documentation: https://pandas.pydata.org/pandas-docs/stable/user_guide/indexing.html#returning-a-view-versus-a-copy\n",
      "  self._setitem_single_block(indexer, value, name)\n"
     ]
    },
    {
     "name": "stdout",
     "output_type": "stream",
     "text": [
      "0        [Coding Bootcamp, Other online resources (ex: ...\n",
      "1        [Other online resources (ex: videos, blogs, et...\n",
      "2        [Other online resources (ex: videos, blogs, et...\n",
      "3                                                       []\n",
      "4                                [Friend or family member]\n",
      "                               ...                        \n",
      "83434    [Other online resources (ex: videos, blogs, et...\n",
      "83435    [Other online resources (ex: videos, blogs, et...\n",
      "83436                                             [School]\n",
      "83437    [Online Courses or Certification, Books / Phys...\n",
      "83438                                             [School]\n",
      "Name: LearnCode, Length: 83439, dtype: object\n",
      "0                                      [Developer, mobile]\n",
      "1                                                       []\n",
      "2                                                       []\n",
      "3                                   [Developer, front-end]\n",
      "4        [Developer, desktop or enterprise applications...\n",
      "                               ...                        \n",
      "83434                                [Developer, back-end]\n",
      "83435                              [Developer, full-stack]\n",
      "83436    [Data scientist or machine learning specialist...\n",
      "83437                                [Developer, back-end]\n",
      "83438    [Developer, front-end, Developer, full-stack, ...\n",
      "Name: DevType, Length: 83439, dtype: object\n",
      "0        [C++, HTML/CSS, JavaScript, Objective-C, PHP, ...\n",
      "1                                     [JavaScript, Python]\n",
      "2                           [Assembly, C, Python, R, Rust]\n",
      "3                                 [JavaScript, TypeScript]\n",
      "4                      [Bash/Shell, HTML/CSS, Python, SQL]\n",
      "                               ...                        \n",
      "83434                               [Clojure, Kotlin, SQL]\n",
      "83435                                                   []\n",
      "83436                               [Groovy, Java, Python]\n",
      "83437            [Bash/Shell, JavaScript, Node.js, Python]\n",
      "83438         [Delphi, Elixir, HTML/CSS, Java, JavaScript]\n",
      "Name: LanguageHaveWorkedWith, Length: 83439, dtype: object\n",
      "0                                                  [Swift]\n",
      "1                                                       []\n",
      "2                                    [Julia, Python, Rust]\n",
      "3                                 [JavaScript, TypeScript]\n",
      "4                      [Bash/Shell, HTML/CSS, Python, SQL]\n",
      "                               ...                        \n",
      "83434                                            [Clojure]\n",
      "83435                                                   []\n",
      "83436                                       [Java, Python]\n",
      "83437                                           [Go, Rust]\n",
      "83438    [Elixir, HTML/CSS, Java, JavaScript, Node.js, ...\n",
      "Name: LanguageWantToWorkWith, Length: 83439, dtype: object\n",
      "0                                     [PostgreSQL, SQLite]\n",
      "1                                             [PostgreSQL]\n",
      "2                                                 [SQLite]\n",
      "3                                                       []\n",
      "4                       [Elasticsearch, PostgreSQL, Redis]\n",
      "                               ...                        \n",
      "83434                                     [Oracle, SQLite]\n",
      "83435    [Firebase, MariaDB, MySQL, PostgreSQL, Redis, ...\n",
      "83436    [DynamoDB, Elasticsearch, MongoDB, PostgreSQL,...\n",
      "83437    [Cassandra, Elasticsearch, MongoDB, PostgreSQL...\n",
      "83438                                 [Oracle, PostgreSQL]\n",
      "Name: DatabaseHaveWorkedWith, Length: 83439, dtype: object\n",
      "0                                                 [SQLite]\n",
      "1                                                       []\n",
      "2                                                 [SQLite]\n",
      "3                                                       []\n",
      "4            [Cassandra, Elasticsearch, PostgreSQL, Redis]\n",
      "                               ...                        \n",
      "83434                                             [SQLite]\n",
      "83435    [Firebase, MariaDB, MongoDB, MySQL, PostgreSQL...\n",
      "83436                                    [DynamoDB, Redis]\n",
      "83437                                                   []\n",
      "83438    [Elasticsearch, MongoDB, MySQL, Oracle, Postgr...\n",
      "Name: DatabaseWantToWorkWith, Length: 83439, dtype: object\n",
      "0                                  []\n",
      "1                                  []\n",
      "2                            [Heroku]\n",
      "3                                  []\n",
      "4                                  []\n",
      "                     ...             \n",
      "83434                           [AWS]\n",
      "83435                              []\n",
      "83436    [AWS, Google Cloud Platform]\n",
      "83437                        [Heroku]\n",
      "83438               [Microsoft Azure]\n",
      "Name: PlatformHaveWorkedWith, Length: 83439, dtype: object\n",
      "0                         []\n",
      "1                         []\n",
      "2                         []\n",
      "3                         []\n",
      "4                         []\n",
      "                ...         \n",
      "83434                  [AWS]\n",
      "83435                     []\n",
      "83436                  [AWS]\n",
      "83437    [AWS, DigitalOcean]\n",
      "83438                  [AWS]\n",
      "Name: PlatformWantToWorkWith, Length: 83439, dtype: object\n",
      "0                                       [Laravel, Symfony]\n",
      "1                                 [Angular, Flask, Vue.js]\n",
      "2                                                  [Flask]\n",
      "3                                        [Angular, jQuery]\n",
      "4                                                  [Flask]\n",
      "                               ...                        \n",
      "83434                                                   []\n",
      "83435    [Django, jQuery, Laravel, React.js, Ruby on Ra...\n",
      "83436                                     [FastAPI, Flask]\n",
      "83437                   [Django, Express, Flask, React.js]\n",
      "83438                                    [Angular, Spring]\n",
      "Name: WebframeHaveWorkedWith, Length: 83439, dtype: object\n",
      "0                                                       []\n",
      "1                                                       []\n",
      "2                                                  [Flask]\n",
      "3                                        [Angular, jQuery]\n",
      "4                                                  [Flask]\n",
      "                               ...                        \n",
      "83434                                                   []\n",
      "83435    [Django, Express, jQuery, Laravel, React.js, R...\n",
      "83436                                     [FastAPI, Flask]\n",
      "83437                                                   []\n",
      "83438                  [Express, Laravel, Spring, Symfony]\n",
      "Name: WebframeWantToWorkWith, Length: 83439, dtype: object\n",
      "0                                                []\n",
      "1                                         [Cordova]\n",
      "2        [NumPy, Pandas, TensorFlow, Torch/PyTorch]\n",
      "3                                                []\n",
      "4             [Apache Spark, Hadoop, NumPy, Pandas]\n",
      "                            ...                    \n",
      "83434                                            []\n",
      "83435                                 [Flutter, Qt]\n",
      "83436                [Hadoop, Keras, NumPy, Pandas]\n",
      "83437    [NumPy, Pandas, TensorFlow, Torch/PyTorch]\n",
      "83438                                            []\n",
      "Name: MiscTechHaveWorkedWith, Length: 83439, dtype: object\n",
      "0                                                       []\n",
      "1                                                       []\n",
      "2        [Keras, NumPy, Pandas, TensorFlow, Torch/PyTorch]\n",
      "3                                                       []\n",
      "4                                  [Hadoop, NumPy, Pandas]\n",
      "                               ...                        \n",
      "83434                                                   []\n",
      "83435                                                   []\n",
      "83436    [Apache Spark, Hadoop, Keras, NumPy, Pandas, T...\n",
      "83437           [NumPy, Pandas, TensorFlow, Torch/PyTorch]\n",
      "83438                                                   []\n",
      "Name: MiscTechWantToWorkWith, Length: 83439, dtype: object\n",
      "0                                       []\n",
      "1                      [Docker, Git, Yarn]\n",
      "2                                       []\n",
      "3                                       []\n",
      "4          [Docker, Git, Kubernetes, Yarn]\n",
      "                       ...                \n",
      "83434                        [Docker, Git]\n",
      "83435       [Git, Unity 3D, Unreal Engine]\n",
      "83436    [Ansible, Docker, Git, Terraform]\n",
      "83437    [Ansible, Docker, Git, Terraform]\n",
      "83438                        [Docker, Git]\n",
      "Name: ToolsTechHaveWorkedWith, Length: 83439, dtype: object\n",
      "0                                          []\n",
      "1                                       [Git]\n",
      "2                                          []\n",
      "3                                          []\n",
      "4             [Docker, Git, Kubernetes, Yarn]\n",
      "                         ...                 \n",
      "83434                       [Git, Kubernetes]\n",
      "83435               [Docker, Git, Kubernetes]\n",
      "83436    [Docker, Git, Kubernetes, Terraform]\n",
      "83437                 [Kubernetes, Terraform]\n",
      "83438               [Docker, Git, Kubernetes]\n",
      "Name: ToolsTechWantToWorkWith, Length: 83439, dtype: object\n"
     ]
    },
    {
     "name": "stdout",
     "output_type": "stream",
     "text": [
      "0                                        [PHPStorm, Xcode]\n",
      "1           [Android Studio, IntelliJ, Notepad++, PyCharm]\n",
      "2        [IPython/Jupyter, PyCharm, RStudio, Sublime Te...\n",
      "3                                                       []\n",
      "4         [Atom, IPython/Jupyter, Notepad++, PyCharm, Vim]\n",
      "                               ...                        \n",
      "83434    [IntelliJ, Sublime Text, Vim, Visual Studio Code]\n",
      "83435    [Android Studio, Eclipse, Emacs, IntelliJ, Net...\n",
      "83436    [Android Studio, Eclipse, IntelliJ, IPython/Ju...\n",
      "83437                              [PyCharm, Sublime Text]\n",
      "83438                       [IntelliJ, Visual Studio Code]\n",
      "Name: NEWCollabToolsHaveWorkedWith, Length: 83439, dtype: object\n",
      "0                                            [Atom, Xcode]\n",
      "1                                                       []\n",
      "2        [IPython/Jupyter, RStudio, Sublime Text, Visua...\n",
      "3                                                       []\n",
      "4        [Atom, IPython/Jupyter, Notepad++, PyCharm, Vi...\n",
      "                               ...                        \n",
      "83434                                  [Sublime Text, Vim]\n",
      "83435    [Emacs, IntelliJ, PHPStorm, PyCharm, RStudio, ...\n",
      "83436          [IntelliJ, IPython/Jupyter, Notepad++, Vim]\n",
      "83437                                                   []\n",
      "83438             [IntelliJ, PHPStorm, Visual Studio Code]\n",
      "Name: NEWCollabToolsWantToWorkWith, Length: 83439, dtype: object\n",
      "0        [Call a coworker or friend, Visit Stack Overfl...\n",
      "1                        [Visit Stack Overflow, Google it]\n",
      "2        [Visit Stack Overflow, Google it, Watch help /...\n",
      "3        [Call a coworker or friend, Visit Stack Overfl...\n",
      "4        [Visit Stack Overflow, Go for a walk or other ...\n",
      "                               ...                        \n",
      "83434               [Call a coworker or friend, Google it]\n",
      "83435    [Call a coworker or friend, Visit Stack Overfl...\n",
      "83436    [Call a coworker or friend, Visit Stack Overfl...\n",
      "83437    [Call a coworker or friend, Visit Stack Overfl...\n",
      "83438    [Call a coworker or friend, Visit Stack Overfl...\n",
      "Name: NEWStuck, Length: 83439, dtype: object\n",
      "0                                         [Stack Overflow]\n",
      "1                                         [Stack Overflow]\n",
      "2                         [Stack Overflow, Stack Exchange]\n",
      "3                                         [Stack Overflow]\n",
      "4                         [Stack Overflow, Stack Exchange]\n",
      "                               ...                        \n",
      "83434                     [Stack Overflow, Stack Exchange]\n",
      "83435                     [Stack Overflow, Stack Exchange]\n",
      "83436                     [Stack Overflow, Stack Exchange]\n",
      "83437                                     [Stack Overflow]\n",
      "83438    [Stack Overflow, Stack Exchange, Stack Overflo...\n",
      "Name: NEWSOSites, Length: 83439, dtype: object\n",
      "0        [Man]\n",
      "1        [Man]\n",
      "2        [Man]\n",
      "3        [Man]\n",
      "4        [Man]\n",
      "         ...  \n",
      "83434    [Man]\n",
      "83435    [Man]\n",
      "83436    [Man]\n",
      "83437    [Man]\n",
      "83438    [Man]\n",
      "Name: Gender, Length: 83439, dtype: object\n",
      "0        [Straight / Heterosexual]\n",
      "1        [Straight / Heterosexual]\n",
      "2              [Prefer not to say]\n",
      "3        [Straight / Heterosexual]\n",
      "4                               []\n",
      "                   ...            \n",
      "83434    [Straight / Heterosexual]\n",
      "83435    [Straight / Heterosexual]\n",
      "83436                           []\n",
      "83437    [Straight / Heterosexual]\n",
      "83438    [Straight / Heterosexual]\n",
      "Name: Sexuality, Length: 83439, dtype: object\n",
      "0        [White or of European descent]\n",
      "1        [White or of European descent]\n",
      "2                   [Prefer not to say]\n",
      "3        [White or of European descent]\n",
      "4        [White or of European descent]\n",
      "                      ...              \n",
      "83434    [White or of European descent]\n",
      "83435     [Black or of African descent]\n",
      "83436    [White or of European descent]\n",
      "83437    [White or of European descent]\n",
      "83438          [Hispanic or Latino/a/x]\n",
      "Name: Ethnicity, Length: 83439, dtype: object\n",
      "0                  [None of the above]\n",
      "1                  [None of the above]\n",
      "2                  [None of the above]\n",
      "3        [I am deaf / hard of hearing]\n",
      "4                  [None of the above]\n",
      "                     ...              \n",
      "83434              [None of the above]\n",
      "83435              [None of the above]\n",
      "83436              [None of the above]\n",
      "83437              [None of the above]\n",
      "83438              [None of the above]\n",
      "Name: Accessibility, Length: 83439, dtype: object\n",
      "0                                      [None of the above]\n",
      "1                                      [None of the above]\n",
      "2                                      [None of the above]\n",
      "3                                                       []\n",
      "4                                                       []\n",
      "                               ...                        \n",
      "83434    [I have a concentration and/or memory disorder...\n",
      "83435                                  [None of the above]\n",
      "83436                                  [None of the above]\n",
      "83437    [I have a mood or emotional disorder (e.g. dep...\n",
      "83438                                  [None of the above]\n",
      "Name: MentalHealth, Length: 83439, dtype: object\n"
     ]
    }
   ],
   "source": [
    "for column in df.columns:\n",
    "    # first check the type of the column\n",
    "    if df[column].dtype == 'O':\n",
    "        Split_answer(column, delimiter=';')\n",
    "        \n"
   ]
  },
  {
   "cell_type": "code",
   "execution_count": 8,
   "id": "8adca526",
   "metadata": {},
   "outputs": [],
   "source": [
    "# another way to know object column\n",
    "object_cols = df.select_dtypes(include='object').columns.tolist()\n",
    "# object_cols"
   ]
  },
  {
   "cell_type": "markdown",
   "id": "523efde9",
   "metadata": {},
   "source": [
    "----------------"
   ]
  },
  {
   "cell_type": "markdown",
   "id": "024092f7",
   "metadata": {},
   "source": [
    "# Visually verify results"
   ]
  },
  {
   "cell_type": "code",
   "execution_count": 9,
   "id": "f33445e4",
   "metadata": {},
   "outputs": [
    {
     "data": {
      "text/plain": [
       "ResponseId                                                                  41337\n",
       "MainBranch                                 I am a student who is learning to code\n",
       "Employment                                     Not employed, but looking for work\n",
       "Country                                                                 Sri Lanka\n",
       "US_State                                                                      NaN\n",
       "UK_Country                                                                    NaN\n",
       "EdLevel                         Secondary school (e.g. American high school, G...\n",
       "Age1stCode                                                          11 - 17 years\n",
       "LearnCode                       [Other online resources (ex: videos, blogs, et...\n",
       "YearsCode                                                                     6.0\n",
       "YearsCodePro                                                                  NaN\n",
       "DevType                                          [Developer, full-stack, Student]\n",
       "OrgSize                                                                       NaN\n",
       "Currency                                                                      NaN\n",
       "CompTotal                                                                     NaN\n",
       "CompFreq                                                                      NaN\n",
       "LanguageHaveWorkedWith          [C, C#, HTML/CSS, Java, JavaScript, Matlab, PH...\n",
       "LanguageWantToWorkWith          [C#, C++, HTML/CSS, Java, JavaScript, Julia, N...\n",
       "DatabaseHaveWorkedWith           [Firebase, MariaDB, Microsoft SQL Server, MySQL]\n",
       "DatabaseWantToWorkWith                                 [Firebase, MariaDB, MySQL]\n",
       "PlatformHaveWorkedWith                                    [Google Cloud Platform]\n",
       "PlatformWantToWorkWith                                    [Google Cloud Platform]\n",
       "WebframeHaveWorkedWith              [Angular.js, ASP.NET Core , jQuery, React.js]\n",
       "WebframeWantToWorkWith              [Angular.js, ASP.NET Core , jQuery, React.js]\n",
       "MiscTechHaveWorkedWith                            [.NET Framework, NumPy, Pandas]\n",
       "MiscTechWantToWorkWith                            [.NET Framework, NumPy, Pandas]\n",
       "ToolsTechHaveWorkedWith                                                     [Git]\n",
       "ToolsTechWantToWorkWith                                                     [Git]\n",
       "NEWCollabToolsHaveWorkedWith    [Android Studio, IntelliJ, IPython/Jupyter, Ne...\n",
       "NEWCollabToolsWantToWorkWith    [Android Studio, IntelliJ, IPython/Jupyter, Ne...\n",
       "OpSys                                                                       MacOS\n",
       "NEWStuck                        [Visit Stack Overflow, Google it, Watch help /...\n",
       "NEWSOSites                                       [Stack Overflow, Stack Exchange]\n",
       "SOVisitFreq                                       A few times per month or weekly\n",
       "SOAccount                                                                     Yes\n",
       "SOPartFreq                                    Less than once per month or monthly\n",
       "SOComm                                                                    Neutral\n",
       "NEWOtherComms                                                                  No\n",
       "Age                                                               18-24 years old\n",
       "Gender                                                                      [Man]\n",
       "Trans                                                                         Yes\n",
       "Sexuality                                                              [Bisexual]\n",
       "Ethnicity                                                           [South Asian]\n",
       "Accessibility                               [I am blind / have difficulty seeing]\n",
       "MentalHealth                    [I have a mood or emotional disorder (e.g. dep...\n",
       "SurveyLength                                                             Too long\n",
       "SurveyEase                                                                   Easy\n",
       "ConvertedCompYearly                                                           NaN\n",
       "Name: 41336, dtype: object"
      ]
     },
     "execution_count": 9,
     "metadata": {},
     "output_type": "execute_result"
    }
   ],
   "source": [
    "#check sample\n",
    "df.sample(1).iloc[0]"
   ]
  },
  {
   "cell_type": "code",
   "execution_count": 10,
   "id": "b47753a3",
   "metadata": {},
   "outputs": [
    {
     "name": "stdout",
     "output_type": "stream",
     "text": [
      "Assembly;Bash/Shell;C;C++;HTML/CSS;PowerShell;SQL;VBA\n",
      "['Assembly', 'Bash/Shell', 'C', 'C++', 'HTML/CSS', 'PowerShell', 'SQL', 'VBA']\n"
     ]
    }
   ],
   "source": [
    "i=df.sample(1).index[0]\n",
    "print(raw_df['LanguageHaveWorkedWith'].iloc[i])\n",
    "print(df['LanguageHaveWorkedWith'].iloc[i])"
   ]
  },
  {
   "cell_type": "code",
   "execution_count": 11,
   "id": "be0e745c",
   "metadata": {},
   "outputs": [
    {
     "name": "stdout",
     "output_type": "stream",
     "text": [
      "Developer, front-end;Developer, back-end;Data or business analyst\n",
      "['Developer, front-end', 'Developer, back-end', 'Data or business analyst']\n"
     ]
    }
   ],
   "source": [
    "print(raw_df['DevType'].iloc[i])\n",
    "print(df['DevType'].iloc[i])"
   ]
  },
  {
   "cell_type": "code",
   "execution_count": 12,
   "id": "129a3fc2",
   "metadata": {},
   "outputs": [
    {
     "name": "stdout",
     "output_type": "stream",
     "text": [
      "23\n",
      "23.0\n"
     ]
    }
   ],
   "source": [
    "print(raw_df['YearsCodePro'].iloc[i])\n",
    "print(df['YearsCodePro'].iloc[i])"
   ]
  },
  {
   "cell_type": "markdown",
   "id": "c13b2354",
   "metadata": {},
   "source": [
    "---"
   ]
  },
  {
   "cell_type": "markdown",
   "id": "8f455c76",
   "metadata": {},
   "source": [
    "# Export Data"
   ]
  },
  {
   "cell_type": "code",
   "execution_count": 14,
   "id": "bc2808de",
   "metadata": {},
   "outputs": [],
   "source": [
    "df.to_pickle(EXPORT_PATH)"
   ]
  },
  {
   "cell_type": "markdown",
   "id": "ca1605e7",
   "metadata": {},
   "source": [
    "----------------"
   ]
  }
 ],
 "metadata": {
  "kernelspec": {
   "display_name": "Python 3 (ipykernel)",
   "language": "python",
   "name": "python3"
  },
  "language_info": {
   "codemirror_mode": {
    "name": "ipython",
    "version": 3
   },
   "file_extension": ".py",
   "mimetype": "text/x-python",
   "name": "python",
   "nbconvert_exporter": "python",
   "pygments_lexer": "ipython3",
   "version": "3.9.7"
  }
 },
 "nbformat": 4,
 "nbformat_minor": 5
}
